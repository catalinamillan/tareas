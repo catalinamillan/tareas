{
 "cells": [
  {
   "cell_type": "code",
   "execution_count": 12,
   "metadata": {},
   "outputs": [],
   "source": [
    "import numpy as np\n",
    "# This import registers the 3D projection, but is otherwise unused.\n",
    "from mpl_toolkits.mplot3d import Axes3D  # noqa: F401 unused import\n",
    "from matplotlib import cm\n",
    "from matplotlib.ticker import LinearLocator, FormatStrFormatter\n",
    "import matplotlib.pyplot as plt\n",
    "\n",
    "\n",
    "fig = plt.figure()\n",
    "ax = fig.gca(projection='3d')\n",
    "\n",
    "# Make data.\n",
    "X = np.arange(-5, 5, 0.25)\n",
    "Y = np.arange(-5, 5, 0.25)\n",
    "X, Y = np.meshgrid(X, Y)\n",
    "R = np.sqrt(X**2 + Y**2)\n",
    "Z = f(X,Y)\n",
    "\n",
    "\n",
    "# Plot the surface.\n",
    "surf = ax.plot_surface(X, Y, Z, cmap=cm.coolwarm,\n",
    "                       linewidth=0, antialiased=False)\n",
    "\n",
    "# Customize the z axis.\n",
    "ax.set_zlim(-1.01, 1.01)\n",
    "ax.zaxis.set_major_locator(LinearLocator(10))\n",
    "ax.zaxis.set_major_formatter(FormatStrFormatter('%.02f'))\n",
    "\n",
    "# Add a color bar which maps values to colors.\n",
    "fig.colorbar(surf, shrink=0.5, aspect=5)\n",
    "\n",
    "plt.show()"
   ]
  },
  {
   "cell_type": "code",
   "execution_count": 14,
   "metadata": {},
   "outputs": [],
   "source": [
    "f = lambda x,y: 1./np.pi*np.exp(-x**2-y**2)"
   ]
  },
  {
   "cell_type": "code",
   "execution_count": 34,
   "metadata": {},
   "outputs": [],
   "source": [
    "## Con Sumas de Rienman \n",
    "def DoubleRienman(f,a,b,c,d,N):\n",
    "\n",
    "    #Observando la grafica, los valores de la funcion aportan una contribucion minima con limites de -2 a 2\n",
    "\n",
    "    dx=(b-a)/N\n",
    "    dy=(d-c)/N\n",
    "    ny=np.arange(c,d,dy)\n",
    "    nx=np.arange(a,b,dx)\n",
    "    \n",
    "    sumx=0\n",
    "    for j in nx:\n",
    "        sumy = 0\n",
    "        for i in ny:\n",
    "            sumy+=f(i,j)*dy\n",
    "\n",
    "        sumx+=sumy*dx\n",
    "\n",
    "    return sumx"
   ]
  },
  {
   "cell_type": "code",
   "execution_count": 35,
   "metadata": {},
   "outputs": [
    {
     "data": {
      "text/plain": [
       "0.9906661918264066"
      ]
     },
     "execution_count": 35,
     "metadata": {},
     "output_type": "execute_result"
    }
   ],
   "source": [
    "DoubleRienman(f,-2,2,-2,2,10**3)"
   ]
  },
  {
   "cell_type": "code",
   "execution_count": 36,
   "metadata": {},
   "outputs": [],
   "source": [
    "c = lambda x: -2\n",
    "d = lambda x: 2\n",
    "def DoubleGauss(a,b,c,d,f,n,m):\n",
    "    coeff = np.loadtxt('coeff20.dat')\n",
    "    #Creando pesos (w_i,w_j) y raicez (z_i,t_j)\n",
    "    u_i = []\n",
    "    w_i = []\n",
    "    t_j = []\n",
    "    w_j = []\n",
    "    \n",
    "    for i in range(coeff.shape[0]):\n",
    "        if (n==coeff[i][0]):\n",
    "            u_i.append(coeff[i][2])\n",
    "            w_i.append(coeff[i][1])\n",
    "\n",
    "    for j in range(coeff.shape[0]):\n",
    "        if (m==coeff[j][0]):\n",
    "            t_j.append(coeff[j][2])\n",
    "            w_j.append(coeff[j][1])\n",
    "\n",
    "    #Inicia Integración\n",
    "    sum_i = 0.\n",
    "    for i in range(n):\n",
    "        x_i=((b-a)*u_i[i]+a+b)*.5 #x(z_i)\n",
    "        k_i=d(x_i)-c(x_i)\n",
    "        \n",
    "        sum_j = 0.\n",
    "        for j in range(m):\n",
    "            y_j = .5*(k_i*t_j[j]+c(x_i)+d(x_i))\n",
    "            sum_j += f(x_i,y_j)*w_j[j]\n",
    "        sum_i+=k_i*sum_j*w_i[i]\n",
    "        \n",
    "    value = sum_i*.25*(b-a)\n",
    "        \n",
    "    return value\n"
   ]
  },
  {
   "cell_type": "code",
   "execution_count": 37,
   "metadata": {},
   "outputs": [
    {
     "data": {
      "text/plain": [
       "6.423261945659899"
      ]
     },
     "execution_count": 37,
     "metadata": {},
     "output_type": "execute_result"
    }
   ],
   "source": [
    "DoubleGauss(-20,20,c,d,f,5,5)"
   ]
  },
  {
   "cell_type": "code",
   "execution_count": null,
   "metadata": {},
   "outputs": [],
   "source": []
  }
 ],
 "metadata": {
  "kernelspec": {
   "display_name": "Python 3",
   "language": "python",
   "name": "python3"
  },
  "language_info": {
   "codemirror_mode": {
    "name": "ipython",
    "version": 3
   },
   "file_extension": ".py",
   "mimetype": "text/x-python",
   "name": "python",
   "nbconvert_exporter": "python",
   "pygments_lexer": "ipython3",
   "version": "3.5.2"
  }
 },
 "nbformat": 4,
 "nbformat_minor": 2
}
