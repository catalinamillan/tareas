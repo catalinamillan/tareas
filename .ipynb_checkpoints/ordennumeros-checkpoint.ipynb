{
 "metadata": {
  "name": "",
  "signature": "sha256:b49d321102b99edd9f207d8c2ad1d6c824054d62d6932df9e4588e520ec9cfe6"
 },
 "nbformat": 3,
 "nbformat_minor": 0,
 "worksheets": [
  {
   "cells": [
    {
     "cell_type": "markdown",
     "metadata": {},
     "source": [
      "# Arreglos de Numpy: \n",
      "## Ejercicio 2.2\n",
      "Programa que organiza una lista de n\u00fameros "
     ]
    },
    {
     "cell_type": "code",
     "collapsed": false,
     "input": [
      "import numpy as np"
     ],
     "language": "python",
     "metadata": {},
     "outputs": [],
     "prompt_number": 6
    },
    {
     "cell_type": "code",
     "collapsed": false,
     "input": [
      "numeros=[]\n",
      "N=20\n",
      "#N=int(input((\"Longitud de la lista: N= \")))"
     ],
     "language": "python",
     "metadata": {},
     "outputs": [],
     "prompt_number": 7
    },
    {
     "cell_type": "code",
     "collapsed": false,
     "input": [
      "#creacion de la lista desordenada\n",
      "for i in range(0,N):\n",
      "  numeros.append(np.random.randint(N))"
     ],
     "language": "python",
     "metadata": {},
     "outputs": [],
     "prompt_number": 8
    },
    {
     "cell_type": "code",
     "collapsed": false,
     "input": [
      "ordenados=sorted(numeros)"
     ],
     "language": "python",
     "metadata": {},
     "outputs": [],
     "prompt_number": 9
    },
    {
     "cell_type": "code",
     "collapsed": false,
     "input": [
      "print('La lista ', numeros, 'ordenada es ', ordenados)"
     ],
     "language": "python",
     "metadata": {},
     "outputs": [
      {
       "output_type": "stream",
       "stream": "stdout",
       "text": [
        "('La lista ', [1, 4, 12, 1, 10, 16, 4, 8, 14, 5, 7, 10, 5, 12, 18, 7, 10, 17, 10, 14], 'ordenada es ', [1, 1, 4, 4, 5, 5, 7, 7, 8, 10, 10, 10, 10, 12, 12, 14, 14, 16, 17, 18])\n"
       ]
      }
     ],
     "prompt_number": 10
    },
    {
     "cell_type": "code",
     "collapsed": false,
     "input": [],
     "language": "python",
     "metadata": {},
     "outputs": []
    }
   ],
   "metadata": {}
  }
 ]
}