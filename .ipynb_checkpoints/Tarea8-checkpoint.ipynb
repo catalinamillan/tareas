{
 "cells": [
  {
   "cell_type": "markdown",
   "metadata": {},
   "source": [
    "\n",
    "LUIS EDUARDO SANTANDER RODRÍGUEZ <luis.santander@udea.edu.co>\n",
    "8:29 (hace 9 minutos)\n",
    "para ANLLY, ESNEIDER, mí\n",
    "\n",
    "<h2><center> Exercises </center></h2>\n",
    "\n",
    "\n",
    "1. Computes the integral $$ \\int_0^1 dx \\frac{4}{1+x^2} $$ by Riemman sums with $N=1,10^2, 10^4,10^6, 10^8$ and gives percent error and computational time. Predict the computational time for $N=10^{12}$, and obtain the minimum $N$ for error $10^{-6}$.\n",
    "\n",
    "<h2><center>  </center></h2>\n",
    "\n",
    "2. An experiment has measured $dN(t)/dt$, the number of particles entering a counter, per unit time, as a function of time. Your problem is to integrate this spectrum to obtain the number of particles $N(1)$ that entered the counter in the first second \n",
    "$$ N(1) = \\int_0^1 e^{-t} dt$$\n",
    "Compare the relative error for the composite trapezoid and Simpson rules. Try different values of N. Make a logarithmic plot of N vs Error.\n"
   ]
  },
  {
   "cell_type": "code",
   "execution_count": 28,
   "metadata": {},
   "outputs": [],
   "source": [
    "import numpy as np\n",
    "import scipy.integrate as integrate\n",
    "import time\n",
    "import matplotlib.pyplot as plt"
   ]
  },
  {
   "cell_type": "code",
   "execution_count": 29,
   "metadata": {},
   "outputs": [],
   "source": [
    "f = lambda x: 4./(1.+x**2)"
   ]
  },
  {
   "cell_type": "code",
   "execution_count": null,
   "metadata": {
    "scrolled": true
   },
   "outputs": [
    {
     "name": "stdout",
     "output_type": "stream",
     "text": [
      "Para N=10e 0, f(x)= 4.0000000000000000e+00, error=2.73e-01, t=3.26e-02 s\n",
      "Para N=10e 2, f(x)= 3.1515759869231270e+00, error=3.18e-03, t=1.39e-04 s\n",
      "Para N=10e 4, f(x)= 3.1416926519231168e+00, error=3.18e-05, t=8.89e-03 s\n",
      "Para N=10e 6, f(x)= 3.1415936535895672e+00, error=3.18e-07, t=8.97e-01 s\n"
     ]
    }
   ],
   "source": [
    "t_list = []\n",
    "i_list = []\n",
    "e_list = []\n",
    "for j in range(0,9,2):\n",
    "    \n",
    "    t0=time.time()\n",
    "    \n",
    "    a=0\n",
    "    b=1\n",
    "    N=10**j\n",
    "    dx=(b-a)/N\n",
    "\n",
    "    sum = 0\n",
    "    n=np.arange(a,b,dx)\n",
    "    for i in n:\n",
    "        sum+=f(i)*dx\n",
    "    error = abs(sum-np.pi)/np.pi\n",
    "    \n",
    "    tiempo_comp=time.time()-t0\n",
    "    t_list.append(tiempo_comp)\n",
    "    i_list.append(j)\n",
    "    e_list.append(error)\n",
    "    print(\"Para N=10e %d, f(x)= %.16e, error=%.2e, t=%.2e s\" %(j,sum,error,tiempo_comp))"
   ]
  },
  {
   "cell_type": "markdown",
   "metadata": {},
   "source": [
    "El error decrece en un factor de $10^{-N-2}$, para $10^{-16}$, N=e 18"
   ]
  },
  {
   "cell_type": "code",
   "execution_count": 31,
   "metadata": {},
   "outputs": [
    {
     "data": {
      "image/png": "[encoded data removed]",
      "text/plain": [
       "<Figure size 432x288 with 1 Axes>"
      ]
     },
     "metadata": {
      "needs_background": "light"
     },
     "output_type": "display_data"
    }
   ],
   "source": [
    "fig=plt.figure()\n",
    "ax=plt.axes()\n",
    "ax.grid()\n",
    "ax.plot(i_list,e_list,'*')\n",
    "ax.set_yscale('log')\n",
    "plt.show()"
   ]
  },
  {
   "cell_type": "code",
   "execution_count": 32,
   "metadata": {},
   "outputs": [
    {
     "data": {
      "image/png": "[encoded data removed]",
      "text/plain": [
       "<Figure size 432x288 with 1 Axes>"
      ]
     },
     "metadata": {
      "needs_background": "light"
     },
     "output_type": "display_data"
    }
   ],
   "source": [
    "fig=plt.figure()\n",
    "ax=plt.axes()\n",
    "ax.grid()\n",
    "ax.plot(i_list,t_list,'*')\n",
    "ax.set_yscale('log')\n",
    "plt.show()"
   ]
  },
  {
   "cell_type": "code",
   "execution_count": null,
   "metadata": {},
   "outputs": [],
   "source": []
  }
 ],
 "metadata": {
  "kernelspec": {
   "display_name": "Python 3",
   "language": "python",
   "name": "python3"
  },
  "language_info": {
   "codemirror_mode": {
    "name": "ipython",
    "version": 3
   },
   "file_extension": ".py",
   "mimetype": "text/x-python",
   "name": "python",
   "nbconvert_exporter": "python",
   "pygments_lexer": "ipython3",
   "version": "3.6.6"
  }
 },
 "nbformat": 4,
 "nbformat_minor": 2
}
