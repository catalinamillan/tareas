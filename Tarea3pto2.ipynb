{
 "cells": [
  {
   "cell_type": "code",
   "execution_count": null,
   "metadata": {},
   "outputs": [],
   "source": [
    "import numpy as np "
   ]
  },
  {
   "cell_type": "code",
   "execution_count": null,
   "metadata": {},
   "outputs": [],
   "source": [
    "def f(x):\n",
    "    value=300.-.25*9.8\n",
    "    return value"
   ]
  },
  {
   "cell_type": "code",
   "execution_count": null,
   "metadata": {},
   "outputs": [],
   "source": [
    "#Inputs \n",
    "p_prev_2=0.\n",
    "p_prev_1=5.\n",
    "Tol=1e-8\n",
    "error=1.\n",
    "Nmax=100\n",
    "iteracion=0"
   ]
  },
  {
   "cell_type": "code",
   "execution_count": null,
   "metadata": {},
   "outputs": [],
   "source": [
    "#El algoritmo\n",
    "while(error>Tol):\n",
    "    p=p_prev_1-(p_prev_2)*f(p_prev_1)/(f(p_prev_1)-f(p_prev_2))\n",
    "    error=abs(p-p_prev_1)\n",
    "    if(f(p)*f(p_prev_1)):\n",
    "        p_prev_2=p_prev_1\n",
    "        p_prev_1=p\n",
    "        print(\"p_n=%.16f\\t error=%.16f\\t abs(f(p_n))=%.16f\"%(p,error,abs(f(p))))\n",
    "    elif(f(p)*f(p_prev_1)>0):\n",
    "        p_prev_1=p_prev_2\n",
    "        p_prev_2=p\n",
    "        print(\"p_n=%.16f\\t error=%.16f\\t abs(f(p_n))=%.16f\"%(p,error,abs(f(p))))\n",
    "    iteracion=iteracion+1\n",
    "    if(iteracion>=Nmax):\n",
    "        print(\"El metrodo no converge despues de %d iteraciones\"%Nmax)\n",
    "        break"
   ]
  }
 ],
 "metadata": {
  "kernelspec": {
   "display_name": "Python 3",
   "language": "python",
   "name": "python3"
  },
  "language_info": {
   "codemirror_mode": {
    "name": "ipython",
    "version": 3
   },
   "file_extension": ".py",
   "mimetype": "text/x-python",
   "name": "python",
   "nbconvert_exporter": "python",
   "pygments_lexer": "ipython3",
   "version": "3.6.5"
  }
 },
 "nbformat": 4,
 "nbformat_minor": 2
}
