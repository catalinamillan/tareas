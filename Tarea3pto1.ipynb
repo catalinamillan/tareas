{
 "cells": [
  {
   "cell_type": "markdown",
   "metadata": {},
   "source": [
    "### Usando el método de Newton Rphson, hallar $T_2/T_1$ \n",
    "$$\n",
    "\\begin{equation}\n",
    "\\eta=\\frac{(T_1/T_2)-T_1/T_2-1}{ln(T_2/T_1)+(1-T_1/T_2)/(\\gamma-1)}\n",
    "\\end{equation}\n",
    "$$"
   ]
  },
  {
   "cell_type": "code",
   "execution_count": 1,
   "metadata": {},
   "outputs": [],
   "source": [
    "import numpy as np\n",
    "import matplotlib.pyplot as plt"
   ]
  },
  {
   "cell_type": "code",
   "execution_count": 2,
   "metadata": {},
   "outputs": [],
   "source": [
    "#Se define la ecuación y su derivada\n",
    "gamma=5./3.\n",
    "a=gamma-1\n",
    "eta=.3\n",
    "\n",
    "def f(x):\n",
    "    return a*x*np.log(x)*(1-eta)-x*(a+eta)+a+eta\n",
    "    #return np.cos(x)-x\n",
    "def dfdx(x):\n",
    "    return a*(1-eta)*(np.log(x)-1)-(a+eta) \n",
    "    #return -np.sin(x)-1"
   ]
  },
  {
   "cell_type": "code",
   "execution_count": 3,
   "metadata": {},
   "outputs": [],
   "source": [
    "Tol=1.e-8 #Tolerancia\n",
    "Nmax=1000 #Número máximo de iteraciones\n",
    "error=2.\n",
    "iteracion=0\n",
    "p_prev=2. #Se asume el primer punto para iniciar el algoritmo"
   ]
  },
  {
   "cell_type": "code",
   "execution_count": 4,
   "metadata": {},
   "outputs": [
    {
     "name": "stdout",
     "output_type": "stream",
     "text": [
      "p=1.7119204594800081 \t error=0.2880795405199919 \tf(p)=0.2586905372356383 \t\n",
      "p=1.4931446780693352 \t error=0.2187757814106730 \tf(p)=0.1973699189240881 \t\n",
      "p=1.3347741302433624 \t error=0.1583705478259727 \tf(p)=0.1437466497726639 \t\n",
      "p=1.2240786743133765 \t error=0.1106954559299860 \tf(p)=0.1011119144331652 \t\n",
      "p=1.1485644686220988 \t error=0.0755142056912776 \tf(p)=0.0693698688441034 \t\n",
      "p=1.0978812119893617 \t error=0.0506832566327371 \tf(p)=0.0467746671128849 \t\n",
      "p=1.0642244399341589 \t error=0.0336567720552028 \tf(p)=0.0311697386476529 \t\n",
      "p=1.0420282778990024 \t error=0.0221961620351565 \tf(p)=0.0206076402029996 \t\n",
      "p=1.0274555229429301 \t error=0.0145727549560724 \tf(p)=0.0135534614244309 \t\n",
      "p=1.0179154908915398 \t error=0.0095400320513903 \tf(p)=0.0088832969332086 \t\n",
      "p=1.0116818029471017 \t error=0.0062336879444380 \tf(p)=0.0058091830225929 \t\n",
      "p=1.0076135009503551 \t error=0.0040683019967467 \tf(p)=0.0037932594107284 \t\n",
      "p=1.0049604894817648 \t error=0.0026530114685903 \tf(p)=0.0024745127045901 \t\n",
      "p=1.0032312994566623 \t error=0.0017291900251024 \tf(p)=0.0016132160457991 \t\n",
      "p=1.0021046164728411 \t error=0.0011266829838212 \tf(p)=0.0010512754316033 \t\n",
      "p=1.0013706661054067 \t error=0.0007339503674344 \tf(p)=0.0006848948835520 \t\n",
      "p=1.0008926192769962 \t error=0.0004780468284105 \tf(p)=0.0004461237809828 \t\n",
      "p=1.0005812796862488 \t error=0.0003113395907475 \tf(p)=0.0002905610183122 \t\n",
      "p=1.0003785243356458 \t error=0.0002027553506030 \tf(p)=0.0001892287398835 \t\n",
      "p=1.0002464880154236 \t error=0.0001320363202222 \tf(p)=0.0001232298323967 \t\n",
      "p=1.0001605068144459 \t error=0.0000859812009777 \tf(p)=0.0000802473963091 \t\n",
      "p=1.0001045173332161 \t error=0.0000559894812298 \tf(p)=0.0000522561177933 \t\n",
      "p=1.0000680583360215 \t error=0.0000364589971946 \tf(p)=0.0000340280872500 \t\n",
      "p=1.0000443172839844 \t error=0.0000237410520372 \tf(p)=0.0000221581837272 \t\n",
      "p=1.0000288578629779 \t error=0.0000154594210064 \tf(p)=0.0000144287371763 \t\n",
      "p=1.0000187912075764 \t error=0.0000100666554015 \tf(p)=0.0000093955213966 \t\n",
      "p=1.0000122361525448 \t error=0.0000065550550317 \tf(p)=0.0000061180413372 \t\n",
      "p=1.0000079677346072 \t error=0.0000042684179375 \tf(p)=0.0000039838524905 \t\n",
      "p=1.0000051882954268 \t error=0.0000027794391804 \tf(p)=0.0000025941414325 \t\n",
      "p=1.0000033784262539 \t error=0.0000018098691730 \tf(p)=0.0000016892104637 \t\n",
      "p=1.0000021999060293 \t error=0.0000011785202245 \tf(p)=0.0000010999518854 \t\n",
      "p=1.0000014324971875 \t error=0.0000007674088418 \tf(p)=0.0000007162481150 \t\n",
      "p=1.0000009327889672 \t error=0.0000004997082204 \tf(p)=0.0000004663942807 \t\n",
      "p=1.0000006073975096 \t error=0.0000003253914576 \tf(p)=0.0000003036986688 \t\n",
      "p=1.0000003955146755 \t error=0.0000002118828342 \tf(p)=0.0000001977573014 \t\n",
      "p=1.0000002575444473 \t error=0.0000001379702281 \tf(p)=0.0000001287722083 \t\n",
      "p=1.0000001677033643 \t error=0.0000000898410830 \tf(p)=0.0000000838516757 \t\n",
      "p=1.0000001092021920 \t error=0.0000000585011724 \tf(p)=0.0000000546010933 \t\n",
      "p=1.0000000711084045 \t error=0.0000000380937875 \tf(p)=0.0000000355542011 \t\n",
      "p=1.0000000463031473 \t error=0.0000000248052572 \tf(p)=0.0000000231515732 \t\n",
      "p=1.0000000301508867 \t error=0.0000000161522606 \tf(p)=0.0000000150754433 \t\n",
      "p=1.0000000196331353 \t error=0.0000000105177513 \tf(p)=0.0000000098165676 \t\n",
      "p=1.0000000127843671 \t error=0.0000000068487682 \tf(p)=0.0000000063921836 \t\n",
      "\n",
      " Solución: T_2/T_1=1.0000000127843671\n"
     ]
    }
   ],
   "source": [
    "#Newton Raphson\n",
    "while(error>Tol):\n",
    "    p=p_prev-f(p_prev)/dfdx(p_prev)\n",
    "    error=abs(p-p_prev)\n",
    "    p_prev=p\n",
    "    iteracion+=1\n",
    "    if(iteracion>Nmax):\n",
    "        print(\"El metodo no converge despues de %d iteraciones\", Nmax)\n",
    "        break\n",
    "    print(\"p=%.16f \\t error=%.16f \\tf(p)=%.16f \\t\" %(p,error,abs(f(p))))\n",
    "\n",
    "print(\"\\n Solución: T_2/T_1=%.16f\" %p)"
   ]
  },
  {
   "cell_type": "code",
   "execution_count": 6,
   "metadata": {},
   "outputs": [
    {
     "data": {
      "image/png": "[encoded data removed]",
      "text/plain": [
       "<Figure size 432x288 with 1 Axes>"
      ]
     },
     "metadata": {
      "needs_background": "light"
     },
     "output_type": "display_data"
    }
   ],
   "source": [
    "#Gráfica\n",
    "x_list=np.linspace(1,8,50)\n",
    "y_list=[]\n",
    "for i in range(0,50):\n",
    "    y_list.append(f(x_list[i]))\n",
    "\n",
    "fig=plt.figure()\n",
    "plt.title(\"Grafica\")\n",
    "ax=plt.axes()\n",
    "ax.grid()\n",
    "ax.plot(x_list,y_list,'*')\n",
    "ax.set_xlabel('x',fontsize=14)\n",
    "ax.set_ylabel('F(x)',fontsize=14)\n",
    "plt.show()"
   ]
  },
  {
   "cell_type": "code",
   "execution_count": null,
   "metadata": {},
   "outputs": [],
   "source": []
  }
 ],
 "metadata": {
  "kernelspec": {
   "display_name": "Python 2",
   "language": "python",
   "name": "python2"
  },
  "language_info": {
   "codemirror_mode": {
    "name": "ipython",
    "version": 2
   },
   "file_extension": ".py",
   "mimetype": "text/x-python",
   "name": "python",
   "nbconvert_exporter": "python",
   "pygments_lexer": "ipython2",
   "version": "2.7.12"
  }
 },
 "nbformat": 4,
 "nbformat_minor": 2
}
