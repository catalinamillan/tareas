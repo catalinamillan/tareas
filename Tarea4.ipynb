{
 "cells": [
  {
   "cell_type": "markdown",
   "metadata": {},
   "source": [
    "## Interpolar usando polinomios de Lagrange "
   ]
  },
  {
   "cell_type": "code",
   "execution_count": 1,
   "metadata": {},
   "outputs": [],
   "source": [
    "import numpy as np\n",
    "import matplotlib.pyplot as plt"
   ]
  },
  {
   "cell_type": "code",
   "execution_count": 2,
   "metadata": {},
   "outputs": [],
   "source": [
    "#Valores dados n=7\n",
    "\n",
    "T=[0.,21.1,37.8,54.4,71.1,87.8,100.]\n",
    "mu_k=[1.79,1.13,.696,.519,.338,.321,.296]\n",
    "\n",
    "#con n=6\n",
    "#T=[0.,21.1,54.4,71.1,87.8,100.]\n",
    "#mu_k=[1.79,1.13,.519,.338,.321,.296]\n",
    "\n",
    "#con n=5\n",
    "#T=[0.,21.1,37.8,87.8,100.]\n",
    "#mu_k=[1.79,1.13,.338,.321,.296]\n"
   ]
  },
  {
   "cell_type": "markdown",
   "metadata": {},
   "source": [
    "a) Cuando aumenta el orden del polinomio se encuantra un polinomio que se ajusta mejor a los datos entregados, siempre y cuando los datos no disten mucho unos de otros."
   ]
  },
  {
   "cell_type": "code",
   "execution_count": 3,
   "metadata": {},
   "outputs": [],
   "source": [
    "def L(T,mu_k,t):\n",
    "    sum=0\n",
    "    for i in range(0,len(T)):\n",
    "        prod=1\n",
    "\n",
    "        for j in range(0,len(T)):\n",
    "            if(j!=i):\n",
    "                prod*=(t-T[j])/(T[i]-T[j])\n",
    "        sum+=mu_k[i]*prod      \n",
    "    return sum"
   ]
  },
  {
   "cell_type": "code",
   "execution_count": 4,
   "metadata": {},
   "outputs": [],
   "source": [
    "x_array=np.linspace(min(T),max(T),100)\n",
    "y_array=[]"
   ]
  },
  {
   "cell_type": "code",
   "execution_count": 5,
   "metadata": {},
   "outputs": [],
   "source": [
    "for i in range(0,len(x_array)):\n",
    "    y_array.append(L(T,mu_k,x_array[i]))"
   ]
  },
  {
   "cell_type": "code",
   "execution_count": 6,
   "metadata": {},
   "outputs": [
    {
     "data": {
      "image/png": "[encoded data removed]",
      "text/plain": [
       "<Figure size 432x288 with 1 Axes>"
      ]
     },
     "metadata": {},
     "output_type": "display_data"
    }
   ],
   "source": [
    "fig=plt.figure()\n",
    "ax=plt.axes()\n",
    "ax.plot(T,mu_k,'*')\n",
    "ax.plot(x_array,y_array)\n",
    "plt.show()\n"
   ]
  },
  {
   "cell_type": "markdown",
   "metadata": {},
   "source": [
    " b) Interpolar para T=10º,30º,60º,90º"
   ]
  },
  {
   "cell_type": "code",
   "execution_count": 7,
   "metadata": {},
   "outputs": [
    {
     "name": "stdout",
     "output_type": "stream",
     "text": [
      "En T=10, mu_k=1.6206915147448739\n",
      "En T=0.000000, mu_k=1.7900000000000000\n",
      "En T=30.000000, mu_k=0.8424777131654219\n",
      "En T=60.000000, mu_k=0.4571688952934672\n",
      "En T=90.000000, mu_k=0.3334228063429620\n"
     ]
    }
   ],
   "source": [
    "print(\"En T=10, mu_k=%.16f\"%(L(T,mu_k,10)))\n",
    "for t in range(0,91,30):\n",
    "    print(\"En T=%f, mu_k=%.16f\"%(t,L(T,mu_k,t)))"
   ]
  },
  {
   "cell_type": "markdown",
   "metadata": {},
   "source": [
    "c) No es posible extrapolar el polinomio para hallar el valor de mu_k en T=110º, pues como es un polinomio, este fluctua mucho por fuera del rango de los valores con los que se construyó el polinomio, incluso si estos valores distasen mucho unos de otros no se podría confiar en los valores intermedios arrojados en la interpolación."
   ]
  },
  {
   "cell_type": "code",
   "execution_count": 8,
   "metadata": {},
   "outputs": [
    {
     "name": "stdout",
     "output_type": "stream",
     "text": [
      "m_k=-0.4190862320422335, en T=110\n"
     ]
    }
   ],
   "source": [
    "print (\"m_k=%.16f, en T=110\"%L(T,mu_k,110))"
   ]
  },
  {
   "cell_type": "code",
   "execution_count": null,
   "metadata": {},
   "outputs": [],
   "source": []
  }
 ],
 "metadata": {
  "kernelspec": {
   "display_name": "Python 3",
   "language": "python",
   "name": "python3"
  },
  "language_info": {
   "codemirror_mode": {
    "name": "ipython",
    "version": 3
   },
   "file_extension": ".py",
   "mimetype": "text/x-python",
   "name": "python",
   "nbconvert_exporter": "python",
   "pygments_lexer": "ipython3",
   "version": "3.6.5"
  }
 },
 "nbformat": 4,
 "nbformat_minor": 2
}
