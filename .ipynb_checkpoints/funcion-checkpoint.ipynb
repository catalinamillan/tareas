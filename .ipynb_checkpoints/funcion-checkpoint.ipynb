{
 "metadata": {
  "name": "",
  "signature": "sha256:997147a50c67914b6d07ac769cb4853467870b936a769d3bd7889c3bc3c40ae4"
 },
 "nbformat": 3,
 "nbformat_minor": 0,
 "worksheets": [
  {
   "cells": [
    {
     "cell_type": "markdown",
     "metadata": {},
     "source": [
      "# Arreglos de Numpy: \n",
      "## Ejercicio 2.1 \n",
      "### $$\n",
      "\\begin{equation}\n",
      "f(\\theta)=\\displaystyle\\sin\\theta\\ln(\\theta+1)\\sinh\\theta\n",
      "\\end{equation}\n",
      "$$"
     ]
    },
    {
     "cell_type": "code",
     "collapsed": false,
     "input": [
      "import numpy as np\n",
      "import matplotlib.pyplot as plt\n",
      "%matplotlib inline"
     ],
     "language": "python",
     "metadata": {},
     "outputs": [],
     "prompt_number": 3
    },
    {
     "cell_type": "code",
     "collapsed": false,
     "input": [
      "#Se definen todas las funciones \n",
      "def fact(x): \n",
      "    if x==0: \n",
      "        return 1\n",
      "    else: \n",
      "        n=1\n",
      "        for i in range(1,x+1):\n",
      "            n=n*i\n",
      "    return n\n",
      "def sin(x,N): \n",
      "    sin=0\n",
      "    for n in range(0,N+1):\n",
      "        sin=sin+(-1)**n*x**(2.*n+1)/fact(2*n+1)\n",
      "    return sin\n",
      "def ln(x,N):\n",
      "    ln=0\n",
      "    for n in range(0,N+1):\n",
      "        ln=ln+((x-1.)/(x+1.))**(2.*n+1)/(2.*n+1)\n",
      "    return 2*ln\n",
      "def sinh(x,N):\n",
      "    sinh=0\n",
      "    for n in range(0,N+1):\n",
      "        sinh=sinh+x**(2.*n+1)/fact(2*n+1)\n",
      "    return sinh\n",
      "def rad(x):\n",
      "    rad=x*3.1415/180\n",
      "    return rad"
     ],
     "language": "python",
     "metadata": {},
     "outputs": [],
     "prompt_number": 4
    },
    {
     "cell_type": "code",
     "collapsed": false,
     "input": [
      "#funci\u00f3n con las funciones definidas \n",
      "def f(x):\n",
      "    N=50\n",
      "    y=sin(x,N)*ln(x+1,N)*sinh(x,N)\n",
      "    return y"
     ],
     "language": "python",
     "metadata": {},
     "outputs": [],
     "prompt_number": 5
    },
    {
     "cell_type": "code",
     "collapsed": false,
     "input": [
      "#funci\u00f3n con las funciones de Numpy\n",
      "def f1(x):\n",
      "    y=np.sin(x)*np.log(x+1)*np.sinh(x)\n",
      "    return y"
     ],
     "language": "python",
     "metadata": {},
     "outputs": [],
     "prompt_number": 6
    },
    {
     "cell_type": "code",
     "collapsed": false,
     "input": [
      "X=[]\n",
      "Y=[]\n",
      "X1=[]\n",
      "Y1=[]\n",
      "x=0\n",
      "dx=.5\n",
      "\n",
      "while x<10:\n",
      "    X.append(x)\n",
      "    Y.append(f(x))\n",
      "    X1.append(x)\n",
      "    Y1.append(f1(x))\n",
      "    x=x+dx  \n",
      "print ('Contador    X           f(x)         f(x) con Numpy')\n",
      "for i in range(0,len(X)):\n",
      "    print(\"%d,       %.1e,     %.4f,       %.4g\" %(i, X[i], Y[i], Y1[i]))"
     ],
     "language": "python",
     "metadata": {},
     "outputs": [
      {
       "output_type": "stream",
       "stream": "stdout",
       "text": [
        "Contador    X           f(x)         f(x) con Numpy\n",
        "0,       0.0e+00,     0.0000,       0\n",
        "1,       5.0e-01,     0.1013,       0.1013\n",
        "2,       1.0e+00,     0.6855,       0.6855\n",
        "3,       1.5e+00,     1.9462,       1.946\n",
        "4,       2.0e+00,     3.6231,       3.623\n",
        "5,       2.5e+00,     4.5361,       4.536\n",
        "6,       3.0e+00,     1.9598,       1.96\n",
        "7,       3.5e+00,     -8.7280,       -8.728\n",
        "8,       4.0e+00,     -33.2398,       -33.24\n",
        "9,       4.5e+00,     -74.9949,       -74.99\n",
        "10,       5.0e+00,     -127.4931,       -127.5\n",
        "11,       5.5e+00,     -161.5713,       -161.6\n",
        "12,       6.0e+00,     -109.6750,       -109.7\n",
        "13,       6.5e+00,     144.1511,       144.2\n",
        "14,       7.0e+00,     749.0904,       749.1\n",
        "15,       7.5e+00,     1814.7154,       1815\n",
        "16,       8.0e+00,     3240.0659,       3240\n",
        "17,       8.5e+00,     4417.4616,       4417\n",
        "18,       9.0e+00,     3844.6616,       3845\n",
        "19,       9.5e+00,     -1180.3885,       -1180\n"
       ]
      }
     ],
     "prompt_number": 8
    },
    {
     "cell_type": "code",
     "collapsed": false,
     "input": [],
     "language": "python",
     "metadata": {},
     "outputs": []
    },
    {
     "cell_type": "code",
     "collapsed": false,
     "input": [],
     "language": "python",
     "metadata": {},
     "outputs": []
    }
   ],
   "metadata": {}
  }
 ]
}