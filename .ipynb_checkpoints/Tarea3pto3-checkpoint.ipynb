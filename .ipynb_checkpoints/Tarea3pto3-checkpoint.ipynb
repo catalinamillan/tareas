{
 "cells": [
  {
   "cell_type": "markdown",
   "metadata": {},
   "source": [
    "$$ \n",
    "\\begin{equation}\n",
    "v=\\mu\\ln\\frac{M_0}{M_0-mt}-gt\n",
    "\\end{equation}\n",
    "$$"
   ]
  },
  {
   "cell_type": "code",
   "execution_count": 2,
   "metadata": {},
   "outputs": [],
   "source": [
    "import numpy as np\n",
    "import matplotlib.pyplot as plt"
   ]
  },
  {
   "cell_type": "code",
   "execution_count": 3,
   "metadata": {},
   "outputs": [],
   "source": [
    "M_0=2.8e6 #kg\n",
    "m=13.3e3 #kg/s\n",
    "mu=2510 #m/s\n",
    "v=335. #m/s\n",
    "g=9.8"
   ]
  },
  {
   "cell_type": "code",
   "execution_count": 4,
   "metadata": {},
   "outputs": [],
   "source": [
    "def f(t):\n",
    "    return v+g*t+mu*np.log(1.-m*t/M_0)"
   ]
  },
  {
   "cell_type": "code",
   "execution_count": 17,
   "metadata": {},
   "outputs": [],
   "source": [
    "a=70\n",
    "b=80\n",
    "Nmax=1000\n",
    "Tol=1.e-8\n",
    "error=1.\n",
    "i=0"
   ]
  },
  {
   "cell_type": "code",
   "execution_count": 18,
   "metadata": {},
   "outputs": [
    {
     "name": "stdout",
     "output_type": "stream",
     "text": [
      "i=1.0 \t ai=70.00000 \t bi=75.00000 \t pi=72.50000 \t f(p)=-14.13741 \t error=2.5000000000000000\n",
      "i=2.0 \t ai=70.00000 \t bi=72.50000 \t pi=71.25000 \t f(p)=-3.75855 \t error=1.2500000000000000\n",
      "i=3.0 \t ai=70.00000 \t bi=71.25000 \t pi=70.62500 \t f(p)=1.35483 \t error=0.6250000000000000\n",
      "i=4.0 \t ai=70.62500 \t bi=71.25000 \t pi=70.93750 \t f(p)=-1.19557 \t error=0.3125000000000000\n",
      "i=5.0 \t ai=70.62500 \t bi=70.93750 \t pi=70.78125 \t f(p)=0.08120 \t error=0.1562500000000000\n",
      "i=6.0 \t ai=70.78125 \t bi=70.93750 \t pi=70.85938 \t f(p)=-0.55679 \t error=0.0781250000000000\n",
      "i=7.0 \t ai=70.78125 \t bi=70.85938 \t pi=70.82031 \t f(p)=-0.23770 \t error=0.0390625000000000\n",
      "i=8.0 \t ai=70.78125 \t bi=70.82031 \t pi=70.80078 \t f(p)=-0.07823 \t error=0.0195312500000000\n",
      "i=9.0 \t ai=70.78125 \t bi=70.80078 \t pi=70.79102 \t f(p)=0.00149 \t error=0.0097656250000000\n",
      "i=10.0 \t ai=70.79102 \t bi=70.80078 \t pi=70.79590 \t f(p)=-0.03836 \t error=0.0048828125000000\n",
      "i=11.0 \t ai=70.79102 \t bi=70.79590 \t pi=70.79346 \t f(p)=-0.01844 \t error=0.0024414062500000\n",
      "i=12.0 \t ai=70.79102 \t bi=70.79346 \t pi=70.79224 \t f(p)=-0.00847 \t error=0.0012207031250000\n",
      "i=13.0 \t ai=70.79102 \t bi=70.79224 \t pi=70.79163 \t f(p)=-0.00349 \t error=0.0006103515625000\n",
      "i=14.0 \t ai=70.79102 \t bi=70.79163 \t pi=70.79132 \t f(p)=-0.00100 \t error=0.0003051757812500\n",
      "i=15.0 \t ai=70.79102 \t bi=70.79132 \t pi=70.79117 \t f(p)=0.00025 \t error=0.0001525878906250\n",
      "i=16.0 \t ai=70.79117 \t bi=70.79132 \t pi=70.79124 \t f(p)=-0.00038 \t error=0.0000762939453125\n",
      "i=17.0 \t ai=70.79117 \t bi=70.79124 \t pi=70.79121 \t f(p)=-0.00006 \t error=0.0000381469726562\n",
      "i=18.0 \t ai=70.79117 \t bi=70.79121 \t pi=70.79119 \t f(p)=0.00009 \t error=0.0000190734863281\n",
      "i=19.0 \t ai=70.79119 \t bi=70.79121 \t pi=70.79120 \t f(p)=0.00001 \t error=0.0000095367431641\n",
      "i=20.0 \t ai=70.79120 \t bi=70.79121 \t pi=70.79120 \t f(p)=-0.00002 \t error=0.0000047683715820\n",
      "i=21.0 \t ai=70.79120 \t bi=70.79120 \t pi=70.79120 \t f(p)=-0.00001 \t error=0.0000023841857910\n",
      "i=22.0 \t ai=70.79120 \t bi=70.79120 \t pi=70.79120 \t f(p)=0.00000 \t error=0.0000011920928955\n",
      "i=23.0 \t ai=70.79120 \t bi=70.79120 \t pi=70.79120 \t f(p)=-0.00000 \t error=0.0000005960464478\n",
      "i=24.0 \t ai=70.79120 \t bi=70.79120 \t pi=70.79120 \t f(p)=0.00000 \t error=0.0000002980232239\n",
      "i=25.0 \t ai=70.79120 \t bi=70.79120 \t pi=70.79120 \t f(p)=0.00000 \t error=0.0000001490116119\n",
      "i=26.0 \t ai=70.79120 \t bi=70.79120 \t pi=70.79120 \t f(p)=-0.00000 \t error=0.0000000745058060\n",
      "i=27.0 \t ai=70.79120 \t bi=70.79120 \t pi=70.79120 \t f(p)=0.00000 \t error=0.0000000372529030\n",
      "i=28.0 \t ai=70.79120 \t bi=70.79120 \t pi=70.79120 \t f(p)=0.00000 \t error=0.0000000186264515\n",
      "i=29.0 \t ai=70.79120 \t bi=70.79120 \t pi=70.79120 \t f(p)=0.00000 \t error=0.0000000093132257\n"
     ]
    }
   ],
   "source": [
    "#Intervalo#Interv \n",
    "ai=a\n",
    "bi=b\n",
    " \n",
    "if(f(a)*f(b)<0):\n",
    " \n",
    "    while(error>Tol):\n",
    "        p=(bi+ai)*.5\n",
    "        p_prev=p\n",
    "        if(f(a)*f(p)<0):\n",
    "            bi=p\n",
    "            ai=ai\n",
    "        elif(f(b)*f(p)<0):\n",
    "            ai=p\n",
    "            bi=bi\n",
    "        i+=1\n",
    "        p=(bi+ai)*.5\n",
    "        error=abs(p-p_prev)\n",
    "    \n",
    "        print(\"i=%.1f \\t ai=%.5f \\t bi=%.5f \\t pi=%.5f \\t f(p)=%.5f \\t error=%.16f\" %(i,ai,bi,p,f(p),error))\n",
    " \n",
    "        if(i>=Nmax):\n",
    "            print(\"Numero maximo de iteraciones excedido\")\n",
    "            break\n",
    "else:\n",
    "    print(\"Intervalo inadecuado\")"
   ]
  },
  {
   "cell_type": "code",
   "execution_count": 25,
   "metadata": {},
   "outputs": [
    {
     "data": {
      "image/png": "[encoded data removed]",
      "text/plain": [
       "<Figure size 432x288 with 1 Axes>"
      ]
     },
     "metadata": {
      "needs_background": "light"
     },
     "output_type": "display_data"
    }
   ],
   "source": [
    "#Gráfica\n",
    "x_list=np.linspace(0,80,50)\n",
    "y_list=[]\n",
    "for i in range(0,50):\n",
    "    y_list.append(f(x_list[i]))\n",
    "\n",
    "fig=plt.figure()\n",
    "ax=plt.axes()\n",
    "ax.grid()\n",
    "ax.plot(x_list,y_list,'*')\n",
    "plt.show()"
   ]
  },
  {
   "cell_type": "code",
   "execution_count": null,
   "metadata": {},
   "outputs": [],
   "source": []
  }
 ],
 "metadata": {
  "kernelspec": {
   "display_name": "Python 2",
   "language": "python",
   "name": "python2"
  },
  "language_info": {
   "codemirror_mode": {
    "name": "ipython",
    "version": 2
   },
   "file_extension": ".py",
   "mimetype": "text/x-python",
   "name": "python",
   "nbconvert_exporter": "python",
   "pygments_lexer": "ipython2",
   "version": "2.7.12"
  }
 },
 "nbformat": 4,
 "nbformat_minor": 2
}
