{
 "cells": [
  {
   "cell_type": "markdown",
   "metadata": {},
   "source": [
    "## Heat Conduction in a 2D bar"
   ]
  },
  {
   "cell_type": "markdown",
   "metadata": {},
   "source": [
    "A heat conduction experiment is performed in a 2D bar with dimensions $50cm$ per $50 cm$ and thermal conductivity $\\kappa = 34Wm^{-1}K^{-1}$. \n",
    "This bar is heated up during certain period of time, afterwards the temperature is measured \n",
    "in different points of the bar in the time $t_0$( Equally spaced measurements done from 0 to 50cm). \n",
    "After removing the\n",
    "heat source, the temperature is measured for the times $t_1=3min$, $t_2=6min$, $t_3=9min$ and $t_3=12min$. \n",
    "\n",
    "Find the heat flux density in the bar for every single time. For this, take into account the Fourier's law given by\n",
    "\n",
    "$$\n",
    "\\vec{q} = -\\kappa \\left( \\frac{\\partial T}{\\partial x}\\hat{i} +\\frac{\\partial T}{\\partial y}\\hat{j} \\right) \n",
    "$$\n",
    "\n",
    "where T(x,y) is a function with coupled variables. Plot a heat map for every time, what happens with the heat flux density over time? \n",
    "\n",
    "The files with the temperatures measured from https://github.com/NATYML/Comput_meth-hom/tree/master/Data/HeatBar. The first and second columns are the positions on the bar(x,y)and the third one is the temperature measured in ºC.\n",
    "\n",
    "**Hint:** It has to be taken into account the dependence of y when derivating with respect to x and viceversa. Use the function meshgrid and inshow to solve the problem. \n"
   ]
  },
  {
   "cell_type": "code",
   "execution_count": 66,
   "metadata": {},
   "outputs": [],
   "source": [
    "import numpy as np\n",
    "import matplotlib.pyplot as plt"
   ]
  },
  {
   "cell_type": "code",
   "execution_count": 67,
   "metadata": {},
   "outputs": [],
   "source": [
    "t_list = [3,6,9,12] #min\n",
    "t0_dat = np.loadtxt(\"/home/catalina/Desktop/tareas/T0.dat\")\n",
    "\n",
    "t0x = t0_dat[:,0]\n",
    "t0y = t0_dat[:,1]\n",
    "t0  = t0_dat[:,2]\n",
    "\n",
    "t1_dat = np.loadtxt(\"/home/catalina/Desktop/tareas/T1.dat\")\n",
    "\n",
    "t1x = t1_dat[:,0]\n",
    "t1y = t1_dat[:,1]\n",
    "t1  = t1_dat[:,2]\n",
    "\n",
    "t2_dat = np.loadtxt(\"/home/catalina/Desktop/tareas/T2.dat\")\n",
    "\n",
    "t2x = t2_dat[:,0]\n",
    "t2y = t2_dat[:,1]\n",
    "t2  = t2_dat[:,2]\n",
    "\n",
    "t3_dat = np.loadtxt(\"/home/catalina/Desktop/tareas/T3.dat\")\n",
    "\n",
    "t3x = t3_dat[:,0]\n",
    "t3y = t3_dat[:,1]\n",
    "t3  = t3_dat[:,2]\n",
    "\n",
    "t4_dat = np.loadtxt(\"/home/catalina/Desktop/tareas/T4.dat\")\n",
    "\n",
    "t4x = t4_dat[:,0]\n",
    "t4y = t4_dat[:,1]\n",
    "t4  = t4_dat[:,2]"
   ]
  },
  {
   "cell_type": "code",
   "execution_count": 68,
   "metadata": {},
   "outputs": [],
   "source": [
    "def dfdx(x_list,y_list,x):\n",
    "    \n",
    "        if  (x==x_list[0]): #Si el punto a derivar es el borde izquierdo\n",
    "            \n",
    "            x0 = x_list[0]\n",
    "            y0 = y_list[0]\n",
    "            \n",
    "            x1 = x_list[1]\n",
    "            y1 = y_list[1]\n",
    "            \n",
    "            x2 = x_list[2]\n",
    "            y2 = y_list[2]\n",
    "            \n",
    "            xj = x0\n",
    "\n",
    "        elif(x==x_list[len(x_list)-1]): #Si el punto a derivar es el borde derecho\n",
    "            x0 = x_list[len(x_list)-1]\n",
    "            y0 = y_list[len(y_list)-1]\n",
    "            \n",
    "            x1 = x_list[len(x_list)-2]\n",
    "            y1 = y_list[len(y_list)-1]\n",
    "            \n",
    "            x2 = x_list[len(x_list)-3]\n",
    "            y2 = y_list[len(y_list)-1] \n",
    "            xj = x0\n",
    "            \n",
    "        else:\n",
    "            i=x_list.index(x)  #Esto es para ubicar la posicion del x en x_list y poder usar sus dos puntos contiguos\n",
    "            x0 = x_list[i]\n",
    "            y0 = y_list[i]\n",
    "             \n",
    "            x1 = x_list[i-1]\n",
    "            y1 = y_list[i-1]\n",
    "             \n",
    "            x2 = x_list[i+1]\n",
    "            y2 = y_list[i+1]\n",
    "             \n",
    "            xj = x0\n",
    "             \n",
    "        dL0dx = (2*xj-x1 -x2)/((x0-x1)*(x0-x2))\n",
    "        dL1dx = (2*xj-x0-x2)/((x1-x0)*(x1-x2))\n",
    "        dL2dx = (2*xj-x0-x1)/((x2-x0)*(x2-x1))\n",
    "        \n",
    "        return dL0dx*y0 + dL1dx*y1 + dL2dx*y2"
   ]
  },
  {
   "cell_type": "code",
   "execution_count": 82,
   "metadata": {},
   "outputs": [
    {
     "ename": "ValueError",
     "evalue": "need more than 2 values to unpack",
     "output_type": "error",
     "traceback": [
      "\u001b[0;31m---------------------------------------------------------------------------\u001b[0m",
      "\u001b[0;31mValueError\u001b[0m                                Traceback (most recent call last)",
      "\u001b[0;32m<ipython-input-82-7eefe0f5f48d>\u001b[0m in \u001b[0;36m<module>\u001b[0;34m()\u001b[0m\n\u001b[1;32m      1\u001b[0m \u001b[0mx\u001b[0m \u001b[0;34m=\u001b[0m \u001b[0mnp\u001b[0m\u001b[0;34m.\u001b[0m\u001b[0marange\u001b[0m\u001b[0;34m(\u001b[0m\u001b[0mmin\u001b[0m\u001b[0;34m(\u001b[0m\u001b[0mt0x\u001b[0m\u001b[0;34m)\u001b[0m\u001b[0;34m,\u001b[0m \u001b[0mmax\u001b[0m\u001b[0;34m(\u001b[0m\u001b[0mt0x\u001b[0m\u001b[0;34m)\u001b[0m\u001b[0;34m,\u001b[0m \u001b[0;36m0.1\u001b[0m\u001b[0;34m)\u001b[0m\u001b[0;34m\u001b[0m\u001b[0m\n\u001b[1;32m      2\u001b[0m \u001b[0my\u001b[0m \u001b[0;34m=\u001b[0m \u001b[0mnp\u001b[0m\u001b[0;34m.\u001b[0m\u001b[0marange\u001b[0m\u001b[0;34m(\u001b[0m\u001b[0mmin\u001b[0m\u001b[0;34m(\u001b[0m\u001b[0mt0y\u001b[0m\u001b[0;34m)\u001b[0m\u001b[0;34m,\u001b[0m \u001b[0mmax\u001b[0m\u001b[0;34m(\u001b[0m\u001b[0mt0y\u001b[0m\u001b[0;34m)\u001b[0m\u001b[0;34m,\u001b[0m \u001b[0;36m0.1\u001b[0m\u001b[0;34m)\u001b[0m\u001b[0;34m\u001b[0m\u001b[0m\n\u001b[0;32m----> 3\u001b[0;31m \u001b[0mxx\u001b[0m\u001b[0;34m,\u001b[0m \u001b[0myy\u001b[0m \u001b[0;34m,\u001b[0m \u001b[0mtt\u001b[0m \u001b[0;34m=\u001b[0m \u001b[0mnp\u001b[0m\u001b[0;34m.\u001b[0m\u001b[0mmeshgrid\u001b[0m\u001b[0;34m(\u001b[0m\u001b[0mx\u001b[0m\u001b[0;34m,\u001b[0m \u001b[0my\u001b[0m\u001b[0;34m,\u001b[0m \u001b[0msparse\u001b[0m\u001b[0;34m=\u001b[0m\u001b[0mTrue\u001b[0m\u001b[0;34m)\u001b[0m\u001b[0;34m\u001b[0m\u001b[0m\n\u001b[0m\u001b[1;32m      4\u001b[0m \u001b[0;34m\u001b[0m\u001b[0m\n\u001b[1;32m      5\u001b[0m \u001b[0mh\u001b[0m \u001b[0;34m=\u001b[0m \u001b[0mplt\u001b[0m\u001b[0;34m.\u001b[0m\u001b[0mcontourf\u001b[0m\u001b[0;34m(\u001b[0m\u001b[0mx\u001b[0m\u001b[0;34m,\u001b[0m\u001b[0my\u001b[0m\u001b[0;34m,\u001b[0m\u001b[0mt03\u001b[0m\u001b[0;34m)\u001b[0m\u001b[0;34m\u001b[0m\u001b[0m\n",
      "\u001b[0;31mValueError\u001b[0m: need more than 2 values to unpack"
     ]
    }
   ],
   "source": [
    "x = np.arange(min(t0x), max(t0x), 0.1)\n",
    "y = np.arange(min(t0y), max(t0y), 0.1)\n",
    "xx, yy , tt = np.meshgrid(x, y, sparse=True)\n",
    "\n",
    "h = plt.contourf(x,y,t03)\n",
    "plt.show()"
   ]
  },
  {
   "cell_type": "code",
   "execution_count": null,
   "metadata": {},
   "outputs": [],
   "source": []
  }
 ],
 "metadata": {
  "kernelspec": {
   "display_name": "Python 2",
   "language": "python",
   "name": "python2"
  },
  "language_info": {
   "codemirror_mode": {
    "name": "ipython",
    "version": 2
   },
   "file_extension": ".py",
   "mimetype": "text/x-python",
   "name": "python",
   "nbconvert_exporter": "python",
   "pygments_lexer": "ipython2",
   "version": "2.7.12"
  }
 },
 "nbformat": 4,
 "nbformat_minor": 2
}
