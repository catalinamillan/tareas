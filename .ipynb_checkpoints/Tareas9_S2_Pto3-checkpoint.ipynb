{
 "cells": [
  {
   "cell_type": "code",
   "execution_count": 83,
   "metadata": {},
   "outputs": [],
   "source": [
    "import numpy as np\n",
    "from scipy import special"
   ]
  },
  {
   "cell_type": "code",
   "execution_count": 84,
   "metadata": {},
   "outputs": [],
   "source": [
    "coeff = np.loadtxt('coeff2k.dat') \n",
    "\n",
    "def GaussQuad(f,a,b,n):\n",
    "    \n",
    "    z_list = []\n",
    "    w_list = []\n",
    "    \n",
    "    for i in range(coeff.shape[0]):\n",
    "        if (n==int(coeff[i][0])):\n",
    "            w_list.append(coeff[i][1])\n",
    "            z_list.append(coeff[i][2])\n",
    "            \n",
    "    sum = 0 \n",
    "    for i in range(n):\n",
    "        argument = ((b-a)*z_list[i]+a+b)*.5\n",
    "        sum+= w_list[i]*f(argument)\n",
    "    value=sum*(b-a)*.5\n",
    "    \n",
    "    return value\n",
    "\n",
    "def Riemann(f,a,b,N):\n",
    "    dx=(b-a)/N\n",
    "    n=np.arange(a,b,dx)\n",
    "    suma=0\n",
    "    for xi in n:\n",
    "        suma+=f(xi)*dx\n",
    "    return suma\n",
    "\n",
    "def GaussErf(x):\n",
    "    f = lambda t: np.exp(-t**2)\n",
    "    return 2*np.pi**(-.5)*GaussQuad(f,0,x,64) # 64 puntos de cuadratura \n",
    "\n",
    "def RiemannErf(x):\n",
    "    f = lambda t: np.exp(-t**2)\n",
    "    return 2*np.pi**(-.5)*Riemann(f,0,x,10**5) #Particiones de 10^5"
   ]
  },
  {
   "cell_type": "markdown",
   "metadata": {},
   "source": [
    " ### Funcion error para x=.5"
   ]
  },
  {
   "cell_type": "code",
   "execution_count": 126,
   "metadata": {},
   "outputs": [
    {
     "data": {
      "text/plain": [
       "0.5205005018026871"
      ]
     },
     "execution_count": 126,
     "metadata": {},
     "output_type": "execute_result"
    }
   ],
   "source": [
    "RiemannErf(.5) "
   ]
  },
  {
   "cell_type": "code",
   "execution_count": 127,
   "metadata": {},
   "outputs": [
    {
     "data": {
      "text/plain": [
       "0.5204998778130464"
      ]
     },
     "execution_count": 127,
     "metadata": {},
     "output_type": "execute_result"
    }
   ],
   "source": [
    "GaussErf(.5)  "
   ]
  },
  {
   "cell_type": "code",
   "execution_count": 128,
   "metadata": {
    "scrolled": true
   },
   "outputs": [
    {
     "data": {
      "text/plain": [
       "0.5204998778130465"
      ]
     },
     "execution_count": 128,
     "metadata": {},
     "output_type": "execute_result"
    }
   ],
   "source": [
    "special.erf(.5) #comparando con la funcion error de scipy "
   ]
  }
 ],
 "metadata": {
  "kernelspec": {
   "display_name": "Python 3",
   "language": "python",
   "name": "python3"
  },
  "language_info": {
   "codemirror_mode": {
    "name": "ipython",
    "version": 3
   },
   "file_extension": ".py",
   "mimetype": "text/x-python",
   "name": "python",
   "nbconvert_exporter": "python",
   "pygments_lexer": "ipython3",
   "version": "3.5.2"
  }
 },
 "nbformat": 4,
 "nbformat_minor": 2
}
