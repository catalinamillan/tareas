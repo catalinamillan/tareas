{
 "cells": [
  {
   "cell_type": "markdown",
   "metadata": {},
   "source": [
    "$$\n",
    "\\begin{equation}\n",
    "\\eta=\\frac{(T_1/T_2)-T_1/T_2-1}{ln(T_2/T_1)+(1-T_1/T_2)/(\\gamma-1)}\n",
    "\\end{equation}\n",
    "$$"
   ]
  },
  {
   "cell_type": "code",
   "execution_count": 7,
   "metadata": {},
   "outputs": [],
   "source": [
    "import numpy as np\n",
    "import matplotlib.pyplot as plt"
   ]
  },
  {
   "cell_type": "code",
   "execution_count": 8,
   "metadata": {},
   "outputs": [],
   "source": [
    "#Se define la ecuación y su derivada\n",
    "gamma=5./3.\n",
    "a=gamma-1\n",
    "eta=.3\n",
    "def f(x):\n",
    "    return a*x*np.log(x)*(1-eta)-x*(a+eta)+a+eta\n",
    "    #return np.cos(x)-x\n",
    "def dfdx(x):\n",
    "    return a*(1-eta)*(np.log(x)-1)-(a+eta) \n",
    "    #return -np.sin(x)-1"
   ]
  },
  {
   "cell_type": "code",
   "execution_count": 11,
   "metadata": {},
   "outputs": [
    {
     "data": {
      "image/png": "[encoded data removed]",
      "text/plain": [
       "<Figure size 432x288 with 1 Axes>"
      ]
     },
     "metadata": {
      "needs_background": "light"
     },
     "output_type": "display_data"
    }
   ],
   "source": [
    "#Gráfica\n",
    "x_list=np.linspace(1,8,50)\n",
    "y_list=[]\n",
    "for i in range(0,50):\n",
    "    y_list.append(f(x_list[i]))\n",
    "\n",
    "fig=plt.figure()\n",
    "ax=plt.axes()\n",
    "ax.grid()\n",
    "ax.plot(x_list,y_list,'*')\n",
    "plt.show()"
   ]
  },
  {
   "cell_type": "code",
   "execution_count": 9,
   "metadata": {},
   "outputs": [],
   "source": [
    "Tol=1.e-8 #Tolerancia\n",
    "Nmax=1000 #Número máximo de iteraciones\n",
    "error=2.\n",
    "iteracion=0\n",
    "p_prev=5. #Se asume el primer punto para iniciar el algoritmo"
   ]
  },
  {
   "cell_type": "code",
   "execution_count": 10,
   "metadata": {},
   "outputs": [
    {
     "name": "stdout",
     "output_type": "stream",
     "text": [
      "p=4.8368493518913196 \t error=0.1631506481086804 \tf(p)=0.1510180229804155 \t\n",
      "p=4.6204116715942245 \t error=0.2164376802970951 \tf(p)=0.1997141670431107 \t\n",
      "p=4.3426866425054156 \t error=0.2777250290888089 \tf(p)=0.2552343818679446 \t\n",
      "p=4.0014808599317426 \t error=0.3412057825736730 \tf(p)=0.3120328043419423 \t\n",
      "p=3.6046052748325996 \t error=0.3968755850991430 \tf(p)=0.3609128452101627 \t\n",
      "p=3.1723575538080495 \t error=0.4322477210245501 \tf(p)=0.3908221128714178 \t\n",
      "p=2.7354789683964507 \t error=0.4368785854115989 \tf(p)=0.3930221528988008 \t\n",
      "p=2.3276627147756561 \t error=0.4078162536207945 \tf(p)=0.3656793303753257 \t\n",
      "p=1.9757309543103476 \t error=0.3519317604653085 \tf(p)=0.3153760568355113 \t\n",
      "p=1.6930249831350666 \t error=0.2827059711752811 \tf(p)=0.2539345914712064 \t\n",
      "p=1.4792079180246651 \t error=0.2138170651104014 \tf(p)=0.1929783718772027 \t\n",
      "p=1.3249030125969690 \t error=0.1543049054276961 \tf(p)=0.1401242041723557 \t\n",
      "p=1.2172841810312116 \t error=0.1076188315657574 \tf(p)=0.0983469432769398 \t\n",
      "p=1.1439771718957978 \t error=0.0733070091354138 \tf(p)=0.0673684596277547 \t\n",
      "p=1.0948232619326899 \t error=0.0491539099631080 \tf(p)=0.0453769632300119 \t\n",
      "p=1.0622027615144509 \t error=0.0326205004182389 \tf(p)=0.0302167290219519 \t\n",
      "p=1.0406988316496033 \t error=0.0215039298648476 \tf(p)=0.0199680627810742 \t\n",
      "p=1.0265843022102212 \t error=0.0141145294393821 \tf(p)=0.0131286907300314 \t\n",
      "p=1.0173458327129152 \t error=0.0092384694973060 \tf(p)=0.0086031139464195 \t\n",
      "p=1.0113098644471448 \t error=0.0060359682657705 \tf(p)=0.0056251977364951 \t\n",
      "p=1.0073708848636957 \t error=0.0039389795834490 \tf(p)=0.0036727964775761 \t\n",
      "p=1.0048023272392974 \t error=0.0025685576243983 \tf(p)=0.0023957909988618 \t\n",
      "p=1.0031282338861369 \t error=0.0016740933531605 \tf(p)=0.0015618359559599 \t\n",
      "p=1.0020374716920524 \t error=0.0010907621940845 \tf(p)=0.0010177678686696 \t\n",
      "p=1.0013269302186949 \t error=0.0007105414733575 \tf(p)=0.0006630544507246 \t\n",
      "p=1.0008641342839628 \t error=0.0004627959347321 \tf(p)=0.0004318929556003 \t\n",
      "p=1.0005627288546570 \t error=0.0003014054293058 \tf(p)=0.0002812905529728 \t\n",
      "p=1.0003664436795663 \t error=0.0001962851750907 \tf(p)=0.0001831905113832 \t\n",
      "p=1.0002386210986767 \t error=0.0001278225808896 \tf(p)=0.0001192972643884 \t\n",
      "p=1.0001553839831341 \t error=0.0000832371155426 \tf(p)=0.0000776863582163 \t\n",
      "p=1.0001011814564320 \t error=0.0000542025267021 \tf(p)=0.0000505883395029 \t\n",
      "p=1.0000658861034122 \t error=0.0000352953530198 \tf(p)=0.0000329420388334 \t\n",
      "p=1.0000429027926161 \t error=0.0000229833107961 \tf(p)=0.0000214509668293 \t\n",
      "p=1.0000279367927591 \t error=0.0000149659998570 \tf(p)=0.0000139682142730 \t\n",
      "p=1.0000181914383477 \t error=0.0000097453544115 \tf(p)=0.0000090956419577 \t\n",
      "p=1.0000118456040483 \t error=0.0000063458342994 \tf(p)=0.0000059227692834 \t\n",
      "p=1.0000077134234955 \t error=0.0000041321805528 \tf(p)=0.0000038566978652 \t\n",
      "p=1.0000050226972974 \t error=0.0000026907261981 \tf(p)=0.0000025113427624 \t\n",
      "p=1.0000032705948305 \t error=0.0000017521024669 \tf(p)=0.0000016352949193 \t\n",
      "p=1.0000021296901835 \t error=0.0000011409046470 \tf(p)=0.0000010648440334 \t\n",
      "p=1.0000013867752264 \t error=0.0000007429149571 \tf(p)=0.0000006933871645 \t\n",
      "p=1.0000009030165211 \t error=0.0000004837587053 \tf(p)=0.0000004515080703 \t\n",
      "p=1.0000005880107981 \t error=0.0000003150057231 \tf(p)=0.0000002940053185 \t\n",
      "p=1.0000003828907691 \t error=0.0000002051200290 \tf(p)=0.0000001914453504 \t\n",
      "p=1.0000002493242288 \t error=0.0000001335665403 \tf(p)=0.0000001246621000 \t\n",
      "p=1.0000001623506636 \t error=0.0000000869735652 \tf(p)=0.0000000811753257 \t\n",
      "p=1.0000001057167125 \t error=0.0000000566339511 \tf(p)=0.0000000528583537 \t\n",
      "p=1.0000000688387900 \t error=0.0000000368779225 \tf(p)=0.0000000344193939 \t\n",
      "p=1.0000000448252588 \t error=0.0000000240135312 \tf(p)=0.0000000224126289 \t\n",
      "p=1.0000000291885407 \t error=0.0000000156367181 \tf(p)=0.0000000145942702 \t\n",
      "p=1.0000000190064917 \t error=0.0000000101820490 \tf(p)=0.0000000095032458 \t\n",
      "p=1.0000000123763202 \t error=0.0000000066301715 \tf(p)=0.0000000061881602 \t\n"
     ]
    }
   ],
   "source": [
    "#Newton Raphson\n",
    "while(error>Tol):\n",
    "    p=p_prev-f(p_prev)/dfdx(p_prev)\n",
    "    error=abs(p-p_prev)\n",
    "    p_prev=p\n",
    "    iteracion+=1\n",
    "    if(iteracion>Nmax):\n",
    "        print(\"El metodo no converge despues de %d iteraciones\", Nmax)\n",
    "        break\n",
    "    print(\"p=%.16f \\t error=%.16f \\tf(p)=%.16f \\t\" %(p,error,abs(f(p))))"
   ]
  },
  {
   "cell_type": "code",
   "execution_count": null,
   "metadata": {},
   "outputs": [],
   "source": []
  },
  {
   "cell_type": "code",
   "execution_count": null,
   "metadata": {},
   "outputs": [],
   "source": []
  }
 ],
 "metadata": {
  "kernelspec": {
   "display_name": "Python 2",
   "language": "python",
   "name": "python2"
  },
  "language_info": {
   "codemirror_mode": {
    "name": "ipython",
    "version": 2
   },
   "file_extension": ".py",
   "mimetype": "text/x-python",
   "name": "python",
   "nbconvert_exporter": "python",
   "pygments_lexer": "ipython2",
   "version": "2.7.12"
  }
 },
 "nbformat": 4,
 "nbformat_minor": 2
}
