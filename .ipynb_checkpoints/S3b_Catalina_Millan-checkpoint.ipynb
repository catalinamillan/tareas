{
 "cells": [
  {
   "cell_type": "code",
   "execution_count": 1,
   "metadata": {},
   "outputs": [],
   "source": [
    "import numpy as np"
   ]
  },
  {
   "cell_type": "code",
   "execution_count": 2,
   "metadata": {},
   "outputs": [],
   "source": [
    "def Prod(A,B):\n",
    "    if (A.shape[1]==B.shape[0]):\n",
    "        m=A.shape[0]\n",
    "        n=A.shape[1]\n",
    "        p=B.shape[1]\n",
    "        C=np.zeros((m,p))\n",
    "        for i in range(m):\n",
    "            for j in range(p):\n",
    "                for r in range(n):\n",
    "                    C[i][j]+=A[i][r]*B[r][j]\n",
    "        return C\n",
    "def TRAZA(A):\n",
    "    if A.shape[0]==A.shape[1]:\n",
    "        sum = 0\n",
    "        for i in range(A.shape[0]):\n",
    "                sum+=A[i][i]\n",
    "    return sum\n",
    "\n",
    "def Trasp(A):\n",
    "    AT=np.zeros((A.shape[0],A.shape[1]))\n",
    "    if A.shape[0]==A.shape[1]:\n",
    "        for i in range(A.shape[0]):\n",
    "            for j in range(A.shape[1]):\n",
    "                AT[i][j]=A[j][i]\n",
    "        return AT"
   ]
  },
  {
   "cell_type": "code",
   "execution_count": 3,
   "metadata": {},
   "outputs": [],
   "source": [
    "def row_pivote(A,fil,col):\n",
    "    max_value=max(A[fil:,col])\n",
    "    min_value=min(A[fil:,col])\n",
    "    \n",
    "    #row_pivote=1\n",
    "    if(abs(max_value)>abs(min_value)):\n",
    "        piv=max_value\n",
    "    else:\n",
    "        piv=min_value\n",
    "    for i in range(0,A.shape[0]):\n",
    "        if A[i][col]==piv:\n",
    "            row_pivote=i\n",
    "            break\n",
    "    return row_pivote"
   ]
  },
  {
   "cell_type": "code",
   "execution_count": 4,
   "metadata": {},
   "outputs": [],
   "source": [
    "def GaussSolver(A,B):  #Solo retorna la matriz triangular asociada\n",
    "    n=A.shape[0]\n",
    "    m=A.shape[1]\n",
    "    cont=0 # Para calcular el signo de las trasposiciones\n",
    "    #Creando matriz aumentada\n",
    "    AB=np.zeros((n,m+1))\n",
    "    AB[:,0:m]=A\n",
    "    for i in range(0,len(B)):\n",
    "        AB[i][m]=B[i]\n",
    "       \n",
    "    #Inicia eliminación Gaussiana\n",
    "    i=0 #Fila inicial\n",
    "    j=0 #Columna inicial\n",
    "    \n",
    "    #Recorriendo columnas\n",
    "    for h in range(j,m-1): #Notar que no se trabaja sobre última columna de A\n",
    "        fila_pivote=row_pivote(AB,i,h)  \n",
    "        pivote=AB[fila_pivote,h]\n",
    "        if(fila_pivote!=i):\n",
    "            cont+=1\n",
    "            #Intercambiando filas\n",
    "            AB[[i,fila_pivote]]=AB[[fila_pivote,i]]\n",
    "            #Luego de esto, la fila pivote está en la posición i-ésima\n",
    "        for k in range(i+1,n):\n",
    "            x=-AB[k][h]/pivote\n",
    "            AB[k]=AB[k]+AB[i]*x\n",
    "        i=i+1\n",
    "        j=j+1\n",
    "\n",
    "    return AB,cont # Matriz AB | numero de trasposiciones"
   ]
  },
  {
   "cell_type": "code",
   "execution_count": 5,
   "metadata": {},
   "outputs": [],
   "source": [
    "#Polinomio característico\n",
    "def eigenvalue(A):\n",
    "    AA=Prod(A,A)\n",
    "    AAA=Prod(AA,A)\n",
    "    \n",
    "    a0=1/6.*(TRAZA(A)**3+2*TRAZA(AAA)-3*TRAZA(A)*TRAZA(AA))\n",
    "    a1=-.5*(TRAZA(A)**2-TRAZA(AA))\n",
    "    a2=TRAZA(A)\n",
    "    a3=-1\n",
    "    \n",
    "    coeff = [a3,a2,a1,a0]\n",
    "    \n",
    "    #valores propios\n",
    "    \n",
    "    l1=np.roots(coeff)[0].real\n",
    "    l2=np.roots(coeff)[1].real\n",
    "    l3=np.roots(coeff)[2].real\n",
    "    \n",
    "    return (l1,l2,l3)"
   ]
  },
  {
   "cell_type": "code",
   "execution_count": 6,
   "metadata": {},
   "outputs": [],
   "source": [
    "def eigenvector33(A,eigenvalue):   # Matriz 3x3\n",
    "    #Creando matriz (A-eigenvalue*1)*x=0\n",
    "    matrix=A-eigenvalue*np.identity(3)\n",
    "    x=np.array([0,0,0])\n",
    "    return GaussSolver(matrix,x)\n",
    "    \n",
    "\n",
    "def eigenvector22(A,eigenvalue):  #Matriz 2x2\n",
    "    #Creando matriz (A-eigenvalue*1)*x=0\n",
    "    matrix=A-eigenvalue*np.identity(2)\n",
    "    x=np.array([0,0])\n",
    "    return GaussSolver(matrix,x)\n",
    "    "
   ]
  },
  {
   "cell_type": "code",
   "execution_count": 7,
   "metadata": {},
   "outputs": [],
   "source": [
    "def det(A):\n",
    "    if (A.shape[0]==A.shape[1]):\n",
    "        n=A.shape[0]\n",
    "        X=np.zeros(A.shape[0])\n",
    "        det= 1\n",
    "        for i in range(n):\n",
    "            det=det*GaussSolver(A,X)[0][i][i]\n",
    "        return (-1)**GaussSolver(A,X)[1]*det"
   ]
  },
  {
   "cell_type": "code",
   "execution_count": 8,
   "metadata": {},
   "outputs": [],
   "source": [
    "def cofactor(A,i,j):\n",
    "    if (A.shape[0]==A.shape[1]):\n",
    "        n=A.shape[0]  \n",
    "        A=list(A)\n",
    "        for k in range(n):\n",
    "            A[k]=list(A[k])\n",
    "        \n",
    "        #Removiendo columna\n",
    "        for k in range(n):\n",
    "            A[k].remove(A[k][j])\n",
    "        #Removiendo fila\n",
    "        A.remove(A[i])\n",
    "        return np.array(A)\n",
    "\n",
    "def Adj(A): # Matriz Adjunta\n",
    "    if (A.shape[0]==A.shape[1]):\n",
    "        n=A.shape[0]\n",
    "        Adj=np.zeros(A.shape)\n",
    "        for i in range(n):\n",
    "            for j in range(n):\n",
    "                Adj[i][j]=(-1)**(i+j)*det(cofactor(A,i,j))\n",
    "        return Adj"
   ]
  },
  {
   "cell_type": "code",
   "execution_count": 9,
   "metadata": {},
   "outputs": [],
   "source": [
    "def inv(A):\n",
    "    if (det(A)!=0):\n",
    "        return 1/det(A)*Trasp(Adj(A))\n",
    "    else:\n",
    "        print('No invertible')"
   ]
  },
  {
   "cell_type": "markdown",
   "metadata": {},
   "source": [
    "### 1) Resolver \n",
    "\\begin{equation}\n",
    "  A=\n",
    "  \\left[ {\\begin{array}{cc}\n",
    "   0 & 1 \\\\\n",
    "   1 & 0\\\\\n",
    "  \\end{array} } \\right]^{i}\n",
    "\\end{equation}"
   ]
  },
  {
   "cell_type": "code",
   "execution_count": 10,
   "metadata": {},
   "outputs": [],
   "source": [
    "A=np.array([[0,1],[1,0]])"
   ]
  },
  {
   "cell_type": "markdown",
   "metadata": {},
   "source": [
    "$A^i=UM^iU$ donde $M$ es una matriz diagonal, cuyos elementos son los valores propios y $U$ es la matriz cuyos vectores columna son los vectores propios asociados a los valores propios"
   ]
  },
  {
   "cell_type": "code",
   "execution_count": 11,
   "metadata": {},
   "outputs": [
    {
     "name": "stdout",
     "output_type": "stream",
     "text": [
      " M^i = \n",
      " [[1.         0.        ]\n",
      " [0.         0.04321392]]\n"
     ]
    }
   ],
   "source": [
    "Mi=np.zeros(A.shape)\n",
    "for k in range(A.shape[0]):\n",
    "    Mi[k][k]=(eigenvalue(A)[k]**complex(0,1)).real\n",
    "print(' M^i = \\n',Mi)"
   ]
  },
  {
   "cell_type": "markdown",
   "metadata": {},
   "source": [
    "El código hecho en clase arroja la matriz con la que luego se obtienen los vetores propios asociados a los valores:"
   ]
  },
  {
   "cell_type": "code",
   "execution_count": 12,
   "metadata": {},
   "outputs": [
    {
     "name": "stdout",
     "output_type": "stream",
     "text": [
      "[[-1.  1.  0.]\n",
      " [ 0.  0.  0.]] \n",
      "\n",
      "[[1. 1. 0.]\n",
      " [0. 0. 0.]] \n",
      "\n"
     ]
    }
   ],
   "source": [
    "for i in range(2):\n",
    "    print(eigenvector22(A,eigenvalue(A)[i])[0],'\\n')"
   ]
  },
  {
   "cell_type": "markdown",
   "metadata": {},
   "source": [
    "De modo que, operando a mano, la matriz $U$ formada por los vectores propios es:"
   ]
  },
  {
   "cell_type": "code",
   "execution_count": 13,
   "metadata": {},
   "outputs": [
    {
     "data": {
      "text/plain": [
       "array([[ 0.5,  0.5],\n",
       "       [ 0.5, -0.5]])"
      ]
     },
     "execution_count": 13,
     "metadata": {},
     "output_type": "execute_result"
    }
   ],
   "source": [
    "U=np.array([[1,1],[1,-1]])\n",
    "inv(U)"
   ]
  },
  {
   "cell_type": "markdown",
   "metadata": {},
   "source": [
    "###  $A^i$=$UM^iU^{-1}$ ="
   ]
  },
  {
   "cell_type": "code",
   "execution_count": 14,
   "metadata": {},
   "outputs": [
    {
     "data": {
      "text/plain": [
       "array([[0.52160696, 0.47839304],\n",
       "       [0.47839304, 0.52160696]])"
      ]
     },
     "execution_count": 14,
     "metadata": {},
     "output_type": "execute_result"
    }
   ],
   "source": [
    "Prod(Prod(U,Mi),inv(U))"
   ]
  },
  {
   "cell_type": "markdown",
   "metadata": {},
   "source": [
    "### 2) Escribir un codigo que compute los valores y vectores propios, determinante e inversa de\n",
    "\\begin{equation}\n",
    "  B= \\frac{1}{\\sqrt{2}}\n",
    "  \\left[ {\\begin{array}{ccc}\n",
    "   0 & 1 & 0\\\\\n",
    "   1 & 0 & 1\\\\\n",
    "   0 & 1 & 0\\\\\n",
    "  \\end{array} } \\right]\n",
    "\\end{equation}\n"
   ]
  },
  {
   "cell_type": "code",
   "execution_count": 15,
   "metadata": {},
   "outputs": [],
   "source": [
    "B=.5**.5*np.array([[0,1,0],[1,0,1],[0,1,0]])"
   ]
  },
  {
   "cell_type": "code",
   "execution_count": 16,
   "metadata": {},
   "outputs": [
    {
     "data": {
      "text/plain": [
       "-0.0"
      ]
     },
     "execution_count": 16,
     "metadata": {},
     "output_type": "execute_result"
    }
   ],
   "source": [
    "det(B)"
   ]
  },
  {
   "cell_type": "code",
   "execution_count": 17,
   "metadata": {},
   "outputs": [
    {
     "name": "stdout",
     "output_type": "stream",
     "text": [
      "No invertible\n"
     ]
    }
   ],
   "source": [
    "inv(B)"
   ]
  },
  {
   "cell_type": "code",
   "execution_count": 18,
   "metadata": {},
   "outputs": [
    {
     "data": {
      "text/plain": [
       "(1.0, -1.0000000000000002, 0.0)"
      ]
     },
     "execution_count": 18,
     "metadata": {},
     "output_type": "execute_result"
    }
   ],
   "source": [
    "eigenvalue(B)"
   ]
  },
  {
   "cell_type": "code",
   "execution_count": 19,
   "metadata": {
    "scrolled": true
   },
   "outputs": [
    {
     "name": "stdout",
     "output_type": "stream",
     "text": [
      "[[ 0.         -0.5         0.70710678  0.        ]\n",
      " [-1.          0.70710678  0.          0.        ]\n",
      " [ 1.          0.         -1.          0.        ]]  \n",
      " \n",
      "\n",
      "[[ 0.          0.5         0.70710678  0.        ]\n",
      " [ 1.          0.70710678  0.          0.        ]\n",
      " [-1.          0.          1.          0.        ]]  \n",
      " \n",
      "\n",
      "[[0.70710678 0.         0.70710678 0.        ]\n",
      " [0.         0.70710678 0.         0.        ]\n",
      " [0.         0.         0.         0.        ]]  \n",
      " \n",
      "\n"
     ]
    }
   ],
   "source": [
    "for i in range(3):\n",
    "    print(eigenvector33(B,eigenvalue(B)[i])[0], ' \\n \\n')"
   ]
  },
  {
   "cell_type": "code",
   "execution_count": 25,
   "metadata": {},
   "outputs": [
    {
     "data": {
      "text/plain": [
       "array([[-1.00000000e+00,  0.00000000e+00,  1.00000000e+00,\n",
       "         0.00000000e+00],\n",
       "       [ 0.00000000e+00,  7.07106780e-01,  1.00000000e+00,\n",
       "         0.00000000e+00],\n",
       "       [ 0.00000000e+00,  0.00000000e+00, -2.37309494e-09,\n",
       "         0.00000000e+00]])"
      ]
     },
     "execution_count": 25,
     "metadata": {},
     "output_type": "execute_result"
    }
   ],
   "source": [
    "p=np.array([[ 0.,0.5,0.70710678],[ 1.,0.70710678,0.],[-1.,0. ,1.]])\n",
    "det(p)\n",
    "GaussSolver(p,[0,0,0])[0]"
   ]
  },
  {
   "cell_type": "markdown",
   "metadata": {},
   "source": [
    "Los vectores propios son entonces"
   ]
  },
  {
   "cell_type": "code",
   "execution_count": 20,
   "metadata": {},
   "outputs": [
    {
     "name": "stdout",
     "output_type": "stream",
     "text": [
      "[1, 1.41421356274619, 1] [-1, 0, 1]\n"
     ]
    }
   ],
   "source": [
    "print([1,1/7.07106781e-01,1],[-1,0,1])"
   ]
  }
 ],
 "metadata": {
  "kernelspec": {
   "display_name": "Python 3",
   "language": "python",
   "name": "python3"
  },
  "language_info": {
   "codemirror_mode": {
    "name": "ipython",
    "version": 3
   },
   "file_extension": ".py",
   "mimetype": "text/x-python",
   "name": "python",
   "nbconvert_exporter": "python",
   "pygments_lexer": "ipython3",
   "version": "3.5.2"
  }
 },
 "nbformat": 4,
 "nbformat_minor": 2
}
