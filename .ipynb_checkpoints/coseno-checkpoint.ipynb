{
 "metadata": {
  "name": "",
  "signature": "sha256:ae3632c25bb6ab5c01e450d87e44781c6b92dfa7e0eed02bf1151df09dcaffef"
 },
 "nbformat": 3,
 "nbformat_minor": 0,
 "worksheets": [
  {
   "cells": [
    {
     "cell_type": "code",
     "collapsed": false,
     "input": [
      "# Arreglos de Numpy: \n",
      "## Ejercicio 2.3\n",
      "\n",
      "### $$ \\begin{equation}\n",
      "f(\\theta)=cos(\\theta)\n",
      "\\end{equation}\n",
      "$$"
     ],
     "language": "python",
     "metadata": {},
     "outputs": []
    },
    {
     "cell_type": "code",
     "collapsed": false,
     "input": [
      "import numpy as np"
     ],
     "language": "python",
     "metadata": {},
     "outputs": []
    },
    {
     "cell_type": "code",
     "collapsed": false,
     "input": [
      "#Se define la funci\u00f3n factorial\n",
      "def fact(x): \n",
      "    if x==0: \n",
      "        return 1\n",
      "    else: \n",
      "        n=1\n",
      "        for i in range(1,x+1):\n",
      "            n=n*i\n",
      "    return n"
     ],
     "language": "python",
     "metadata": {},
     "outputs": [],
     "prompt_number": 11
    },
    {
     "cell_type": "markdown",
     "metadata": {},
     "source": [
      "# Arreglos de Numpy: \n",
      "## Ejercicio 2.3\n",
      "\n",
      "### $$ \\begin{equation}\n",
      "f(\\theta)=cos(\\theta)\n",
      "\\end{equation}\n",
      "$$"
     ]
    },
    {
     "cell_type": "code",
     "collapsed": false,
     "input": [
      "def cos(x,N): #Se ingresa el n\u00famero en radianes y el n\u00famero de iteraciones que se quiera \n",
      "    cos=0\n",
      "    for n in range(0,N+1):\n",
      "        cos=cos+(-1)**n*x**(2*n)/fact(2*n)\n",
      "    return cos"
     ],
     "language": "python",
     "metadata": {},
     "outputs": [],
     "prompt_number": 13
    },
    {
     "cell_type": "code",
     "collapsed": false,
     "input": [
      "#Con 10 iteraciones\n",
      "n=0 \n",
      "for i in range(0,5):\n",
      "    print (\"El coseno de %d pi/2, es %f\" %(n,cos(np.pi*n/2,10)))\n",
      "    n=n+1"
     ],
     "language": "python",
     "metadata": {},
     "outputs": [
      {
       "output_type": "stream",
       "stream": "stdout",
       "text": [
        "El coseno de 0 pi/2, es 1.000000\n",
        "El coseno de 1 pi/2, es 0.000000\n",
        "El coseno de 2 pi/2, es -1.000000\n",
        "El coseno de 3 pi/2, es 0.000001\n",
        "El coseno de 4 pi/2, es 1.000301\n"
       ]
      }
     ],
     "prompt_number": 14
    },
    {
     "cell_type": "code",
     "collapsed": false,
     "input": [
      "#Con 5 iteraciones\n",
      "n=0 \n",
      "for i in range(0,5):\n",
      "    print (\"El coseno de %d pi/2, es %f\" %(n,cos(np.pi*n/2,5)))\n",
      "    n=n+1"
     ],
     "language": "python",
     "metadata": {},
     "outputs": [
      {
       "output_type": "stream",
       "stream": "stdout",
       "text": [
        "El coseno de 0 pi/2, es 1.000000\n",
        "El coseno de 1 pi/2, es -0.000000\n",
        "El coseno de 2 pi/2, es -1.001829\n",
        "El coseno de 3 pi/2, es -0.222441\n",
        "El coseno de 4 pi/2, es -5.438247\n"
       ]
      }
     ],
     "prompt_number": 15
    },
    {
     "cell_type": "code",
     "collapsed": false,
     "input": [
      "#Con 2 iteraciones\n",
      "n=0 \n",
      "for i in range(0,5):\n",
      "    print (\"El coseno de %d pi/2, es %f\" %(n,cos(np.pi*n/2,2)))\n",
      "    n=n+1"
     ],
     "language": "python",
     "metadata": {},
     "outputs": [
      {
       "output_type": "stream",
       "stream": "stdout",
       "text": [
        "El coseno de 0 pi/2, es 1.000000\n",
        "El coseno de 1 pi/2, es 0.019969\n",
        "El coseno de 2 pi/2, es 0.123910\n",
        "El coseno de 3 pi/2, es 10.443925\n",
        "El coseno de 4 pi/2, es 46.200185\n"
       ]
      }
     ],
     "prompt_number": 16
    },
    {
     "cell_type": "code",
     "collapsed": false,
     "input": [
      "#Con la funci\u00f3n coseno de Numpy \n",
      "for i in range(0,5):\n",
      "    print (\"El coseno de %d pi/2, es %f\" %(n,np.cos(np.pi*n)))\n",
      "    n=n+1"
     ],
     "language": "python",
     "metadata": {},
     "outputs": [
      {
       "output_type": "stream",
       "stream": "stdout",
       "text": [
        "El coseno de 5 pi/2, es -1.000000\n",
        "El coseno de 6 pi/2, es 1.000000\n",
        "El coseno de 7 pi/2, es -1.000000\n",
        "El coseno de 8 pi/2, es 1.000000\n",
        "El coseno de 9 pi/2, es -1.000000\n"
       ]
      }
     ],
     "prompt_number": 17
    },
    {
     "cell_type": "code",
     "collapsed": false,
     "input": [],
     "language": "python",
     "metadata": {},
     "outputs": []
    }
   ],
   "metadata": {}
  }
 ]
}