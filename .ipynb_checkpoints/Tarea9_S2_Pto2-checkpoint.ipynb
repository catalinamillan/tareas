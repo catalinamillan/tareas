{
 "cells": [
  {
   "cell_type": "code",
   "execution_count": 1,
   "metadata": {},
   "outputs": [],
   "source": [
    "import numpy as np\n",
    "import matplotlib.pyplot as plt\n",
    "import time "
   ]
  },
  {
   "cell_type": "markdown",
   "metadata": {},
   "source": [
    "2. Compute the integral\n",
    "\n",
    "\\begin{equation}\n",
    "\\int_{-\\infty}^{\\infty} \\int_{-\\infty}^{\\infty} \\int_{-\\infty}^{\\infty} {\\frac{1}{2\\pi}}^{3/2}e^{-.5(x^2+y^2+z^2)}dzdydx\n",
    "\\end{equation}\n",
    "\n",
    "And plot the percent error and computational time as a function of N"
   ]
  },
  {
   "cell_type": "code",
   "execution_count": 2,
   "metadata": {},
   "outputs": [],
   "source": [
    "# limites de la integral triple, se toman los limites de -10 a 10, porque la contribucion del resto de la integral es mínima\n",
    "\n",
    "c = lambda x: -10\n",
    "d = lambda x: 10\n",
    "al = lambda x,y : -10 \n",
    "be = lambda x,y : 10\n",
    "\n",
    "#Funcion de integracion \n",
    "f = lambda x,y,z: (2*np.pi)**(-1.5)*np.exp(-.5*(x**2+y**2+z**2))"
   ]
  },
  {
   "cell_type": "code",
   "execution_count": 3,
   "metadata": {},
   "outputs": [],
   "source": [
    "coeff = np.loadtxt('coeff2k.dat') #Pesos ci | Raices xi (Raices y coeficintes del polinomio de grado 2^k k=1,2,4,5,6\n",
    "\n",
    "def TripleGauss(f,a,b,c,d,al,be,n,m,q): #Integral \n",
    "        t0=time.time()\n",
    "        r3_i = [] #Raices \n",
    "        r2_j = []\n",
    "        r1_k = []\n",
    "\n",
    "        c_i = [] #Coeficientes\n",
    "        c_j = []\n",
    "        c_k = []\n",
    "        \n",
    "        #Acomodando los coeficientes y raices\n",
    "        for i in range(coeff.shape[0]):\n",
    "            if (n==coeff[i][0]):\n",
    "                r3_i.append(coeff[i][2])\n",
    "                c_i.append(coeff[i][1])\n",
    "                \n",
    "        for j in range(coeff.shape[0]):\n",
    "            if (m==coeff[j][0]):\n",
    "                r2_j.append(coeff[j][2])\n",
    "                c_j.append(coeff[j][1])\n",
    "                \n",
    "        for k in range(coeff.shape[0]):\n",
    "            if (q==coeff[k][0]):\n",
    "                r1_k.append(coeff[k][2])\n",
    "                c_k.append(coeff[k][1])\n",
    "                \n",
    "\n",
    "        #Integracion\n",
    "        sum_i = 0.\n",
    "        for i in range(n):\n",
    "            x=((b-a)*r3_i[i]+b+a)*.5\n",
    "            \n",
    "            sum_j = 0.\n",
    "            for j in range(m):\n",
    "                y = ((d(x)-c(x))*r2_j[j]+d(x)+c(x))*.5\n",
    "                \n",
    "            \n",
    "                sum_k = 0.\n",
    "                for k in range(q):\n",
    "                    z =((be(x,y)-al(x,y))*r1_k[k]+be(x,y)+al(x,y))*.5\n",
    "                    \n",
    "                    sum_k+= c_k[k]*f(x,y,z)\n",
    "                \n",
    "                sum_j+= c_j[j]*(be(x,y)-al(x,y))*sum_k*.5\n",
    "            \n",
    "            sum_i+=c_i[i]*(d(x)-c(x))*sum_j*.5\n",
    "        \n",
    "        tiempo=t0-time.time()\n",
    "        \n",
    "        return sum_i*(b-a)*.5, tiempo #Retorna el valor de la integral y el tiempo que tomo en realizar las operaciones necesarias"
   ]
  },
  {
   "cell_type": "code",
   "execution_count": 4,
   "metadata": {},
   "outputs": [],
   "source": [
    "def TripleRienman(f,a,b,c,d,al,be,N):  #a,b,c,d,al,be como funciones constantes \n",
    "    t0=time.time()\n",
    "    \n",
    "    dx=(b-a)/N\n",
    "    dy=(d-c)/N\n",
    "    dz=(be-al)/N\n",
    "    \n",
    "    ny=np.arange(c,d,dy)\n",
    "    nx=np.arange(a,b,dx)\n",
    "    nz=np.arange(al,be,dz)\n",
    "        \n",
    "    sumx = 0\n",
    "    for i in nx:\n",
    "        sumy = 0\n",
    "        for j in ny:\n",
    "            sumz = 0\n",
    "            for k in nz:\n",
    "                sumz+= f(i,j,k)*dz\n",
    "            sumy+=sumz*dy\n",
    "        sumx+=sumy*dx\n",
    "        \n",
    "    tiempo=time.time()-t0\n",
    "    \n",
    "    return sumx, tiempo #Retorna el valor de la integral y el tiempo que tomo en realizar las operaciones necesarias"
   ]
  },
  {
   "cell_type": "code",
   "execution_count": 5,
   "metadata": {},
   "outputs": [],
   "source": [
    "## Riemann\n",
    "\n",
    "#Graficando tiempo y error, los valores de N que se toman van de 10^0 a 10^2 ya que la integración por sumas de Riemann es un proceso pesado para valores grandes de N\n",
    "\n",
    "N=np.arange(0,2,0.1) \n",
    "#integral = []\n",
    "tiempo = []\n",
    "error = []\n",
    "\n",
    "p=10\n",
    "for n in N:\n",
    "    #integral.append(TripleRienman(f,-p,p,-p,p,-p,p,10**n)[0])\n",
    "    tiempo.append(TripleRienman(f,-p,p,-p,p,-p,p,10**n)[1])\n",
    "    error.append(abs(TripleRienman(f,-p,p,-p,p,-p,p,10**n)[0]-1)*100)"
   ]
  },
  {
   "cell_type": "code",
   "execution_count": 6,
   "metadata": {},
   "outputs": [],
   "source": [
    "#Cuadratura Gaussiana\n",
    "\n",
    "#integralGauss =[]\n",
    "tiempoGauss = []\n",
    "errorGauss = []\n",
    "K=[2,4,16,32,64]\n",
    "\n",
    "q=10\n",
    "for k in K:\n",
    "    #integralGauss.append(TripleGauss(f,-q,q,c,d,al,be,k,k,k)[0])\n",
    "    tiempoGauss.append(TripleGauss(f,-q,q,c,d,al,be,k,k,k)[1])\n",
    "    errorGauss.append(abs(TripleGauss(f,-q,q,c,d,al,be,k,k,k)[0]-1)*100)\n"
   ]
  },
  {
   "cell_type": "code",
   "execution_count": 7,
   "metadata": {},
   "outputs": [
    {
     "data": {
      "image/png": "[encoded data removed]",
      "text/plain": [
       "<Figure size 864x648 with 4 Axes>"
      ]
     },
     "metadata": {
      "needs_background": "light"
     },
     "output_type": "display_data"
    }
   ],
   "source": [
    "plt.figure(1, figsize=(12,9))\n",
    "\n",
    "# Error Riemann\n",
    "plt.subplot(221)\n",
    "plt.plot(N, error, '*')\n",
    "plt.yscale('log')\n",
    "plt.title('Error/N Riemann')\n",
    "plt.xlabel('log(N)')\n",
    "plt.ylabel('log(err)')\n",
    "plt.grid(True)\n",
    "\n",
    "\n",
    "# Error Cuadratura Gaussiana\n",
    "plt.subplot(222)\n",
    "plt.plot(K, errorGauss, '*')\n",
    "plt.yscale('log')\n",
    "plt.title('Error/k Cuadratura')\n",
    "plt.xlabel('log(2^k)')\n",
    "plt.ylabel('log(errGauss)')\n",
    "plt.grid(True)\n",
    "\n",
    "\n",
    "# Tiempo Riemann\n",
    "plt.subplot(223)\n",
    "plt.plot(N, tiempo, '*')\n",
    "plt.yscale('log')\n",
    "plt.title('Tiempo/N  Riemann')\n",
    "plt.xlabel('log(N)')\n",
    "plt.ylabel('log(t)')\n",
    "plt.grid(True)\n",
    "\n",
    "# Tiempo Cuadratura gaussiana\n",
    "plt.subplot(224)\n",
    "plt.plot(K,tiempoGauss, '*')\n",
    "#plt.yscale('log')\n",
    "plt.title('Tiempo/2^k Cuadratura')\n",
    "plt.xlabel('2^k')\n",
    "plt.ylabel('log(t)')\n",
    "plt.grid(True)\n",
    "\n",
    "plt.subplots_adjust(top=0.92, bottom=0.08, left=0.10, right=0.95, hspace=0.6, wspace=0.6)\n",
    "\n",
    "plt.show()"
   ]
  },
  {
   "cell_type": "markdown",
   "metadata": {},
   "source": [
    "Para N=10^3, en la integracion por sumas de Riemann, el tiempo computacional, aproximadamanente, es 10 min "
   ]
  },
  {
   "cell_type": "code",
   "execution_count": null,
   "metadata": {},
   "outputs": [],
   "source": []
  }
 ],
 "metadata": {
  "kernelspec": {
   "display_name": "Python 3",
   "language": "python",
   "name": "python3"
  },
  "language_info": {
   "codemirror_mode": {
    "name": "ipython",
    "version": 3
   },
   "file_extension": ".py",
   "mimetype": "text/x-python",
   "name": "python",
   "nbconvert_exporter": "python",
   "pygments_lexer": "ipython3",
   "version": "3.5.2"
  }
 },
 "nbformat": 4,
 "nbformat_minor": 2
}
