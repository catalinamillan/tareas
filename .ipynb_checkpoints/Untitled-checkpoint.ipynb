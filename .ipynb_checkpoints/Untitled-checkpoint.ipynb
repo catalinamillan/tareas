{
 "cells": [
  {
   "cell_type": "code",
   "execution_count": 1,
   "metadata": {},
   "outputs": [],
   "source": [
    "import numpy as np\n",
    "import matplotlib.pyplot as plt"
   ]
  },
  {
   "cell_type": "code",
   "execution_count": 40,
   "metadata": {},
   "outputs": [],
   "source": [
    "t0_dat = np.loadtxt(\"/home/usuario/CatMillan/tareas/T0.dat\")\n",
    "t0x = t0_dat[:,0]\n",
    "t0y = t0_dat[:,1][0]\n",
    "t0 = t0_dat[:,2][0]\n",
    "\n",
    "t1_dat = np.loadtxt(\"/home/usuario/CatMillan/tareas/T1.dat\")\n",
    "\n",
    "t1x = t0_dat[:,0][0]\n",
    "t1y = t0_dat[:,1][0]\n",
    "t1 = t0_dat[:,2][0]\n",
    "\n",
    "t2_dat = np.loadtxt(\"/home/usuario/CatMillan/tareas/T2.dat\")\n",
    "\n",
    "t2x = t0_dat[:,0][0]\n",
    "t2y = t0_dat[:,1][0]\n",
    "t2 = t0_dat[:,2][0]\n",
    "\n",
    "t3_dat = np.loadtxt(\"/home/usuario/CatMillan/tareas/T3.dat\")\n",
    "\n",
    "t3x = t0_dat[:,0][0]\n",
    "t3y = t0_dat[:,1][0]\n",
    "t3 = t0_dat[:,2][0]\n",
    "\n",
    "t4_dat = np.loadtxt(\"/home/usuario/CatMillan/tareas/T4.dat\")\n",
    "\n",
    "t4x = t0_dat[:,0][0]\n",
    "t4y = t0_dat[:,1][0]\n",
    "t4 = t0_dat[:,2][0]"
   ]
  },
  {
   "cell_type": "code",
   "execution_count": 41,
   "metadata": {},
   "outputs": [],
   "source": [
    "def dfdx(x_list,y_list,x):\n",
    "    \n",
    "        if  (x==x_list[0]): #Si el punto a derivar es el borde izquierdo\n",
    "            \n",
    "            x0 = x_list[0]\n",
    "            y0 = y_list[0]\n",
    "            \n",
    "            x1 = x_list[1]\n",
    "            y1 = y_list[1]\n",
    "            \n",
    "            x2 = x_list[2]\n",
    "            y2 = y_list[2]\n",
    "            \n",
    "            xj = x0\n",
    "\n",
    "        elif(x==x_list[len(x_list)-1]): #Si el punto a derivar es el borde derecho\n",
    "            x0 = x_list[len(x_list)-1]\n",
    "            y0 = y_list[len(y_list)-1]\n",
    "            \n",
    "            x1 = x_list[len(x_list)-2]\n",
    "            y1 = y_list[len(y_list)-1]\n",
    "            \n",
    "            x2 = x_list[len(x_list)-3]\n",
    "            y2 = y_list[len(y_list)-1] \n",
    "            xj = x0\n",
    "            \n",
    "        else:\n",
    "            i=x_list.index(x)  #Esto es para ubicar la posicion del x en x_list y poder usar sus dos puntos contiguos\n",
    "            x0 = x_list[i]\n",
    "            y0 = y_list[i]\n",
    "             \n",
    "            x1 = x_list[i-1]\n",
    "            y1 = y_list[i-1]\n",
    "             \n",
    "            x2 = x_list[i+1]\n",
    "            y2 = y_list[i+1]\n",
    "             \n",
    "            xj = x0\n",
    "             \n",
    "        dL0dx = (2*xj-x1 -x2)/((x0-x1)*(x0-x2))\n",
    "        dL1dx = (2*xj-x0-x2)/((x1-x0)*(x1-x2))\n",
    "        dL2dx = (2*xj-x0-x1)/((x2-x0)*(x2-x1))\n",
    "        \n",
    "        return dL0dx*y0 + dL1dx*y1 + dL2dx*y2"
   ]
  },
  {
   "cell_type": "code",
   "execution_count": 50,
   "metadata": {},
   "outputs": [
    {
     "ename": "IndexError",
     "evalue": "invalid index to scalar variable.",
     "output_type": "error",
     "traceback": [
      "\u001b[0;31m---------------------------------------------------------------------------\u001b[0m",
      "\u001b[0;31mIndexError\u001b[0m                                Traceback (most recent call last)",
      "\u001b[0;32m<ipython-input-50-e820284158e0>\u001b[0m in \u001b[0;36m<module>\u001b[0;34m\u001b[0m\n\u001b[0;32m----> 1\u001b[0;31m \u001b[0mdtdx0\u001b[0m\u001b[0;34m=\u001b[0m\u001b[0;34m[\u001b[0m\u001b[0mdfdx\u001b[0m\u001b[0;34m(\u001b[0m\u001b[0mt0x\u001b[0m\u001b[0;34m,\u001b[0m\u001b[0mt0y\u001b[0m\u001b[0;34m,\u001b[0m\u001b[0mt0\u001b[0m\u001b[0;34m[\u001b[0m\u001b[0mi\u001b[0m\u001b[0;34m]\u001b[0m\u001b[0;34m)\u001b[0m \u001b[0;32mfor\u001b[0m \u001b[0mi\u001b[0m \u001b[0;32min\u001b[0m \u001b[0mrange\u001b[0m\u001b[0;34m(\u001b[0m\u001b[0mlen\u001b[0m\u001b[0;34m(\u001b[0m\u001b[0mt0x\u001b[0m\u001b[0;34m)\u001b[0m\u001b[0;34m)\u001b[0m\u001b[0;34m]\u001b[0m\u001b[0;34m\u001b[0m\u001b[0m\n\u001b[0m\u001b[1;32m      2\u001b[0m \u001b[0;34m\u001b[0m\u001b[0m\n\u001b[1;32m      3\u001b[0m \u001b[0mt0x\u001b[0m\u001b[0;34m[\u001b[0m\u001b[0;36m8\u001b[0m\u001b[0;34m]\u001b[0m\u001b[0;34m\u001b[0m\u001b[0m\n",
      "\u001b[0;32m<ipython-input-50-e820284158e0>\u001b[0m in \u001b[0;36m<listcomp>\u001b[0;34m(.0)\u001b[0m\n\u001b[0;32m----> 1\u001b[0;31m \u001b[0mdtdx0\u001b[0m\u001b[0;34m=\u001b[0m\u001b[0;34m[\u001b[0m\u001b[0mdfdx\u001b[0m\u001b[0;34m(\u001b[0m\u001b[0mt0x\u001b[0m\u001b[0;34m,\u001b[0m\u001b[0mt0y\u001b[0m\u001b[0;34m,\u001b[0m\u001b[0mt0\u001b[0m\u001b[0;34m[\u001b[0m\u001b[0mi\u001b[0m\u001b[0;34m]\u001b[0m\u001b[0;34m)\u001b[0m \u001b[0;32mfor\u001b[0m \u001b[0mi\u001b[0m \u001b[0;32min\u001b[0m \u001b[0mrange\u001b[0m\u001b[0;34m(\u001b[0m\u001b[0mlen\u001b[0m\u001b[0;34m(\u001b[0m\u001b[0mt0x\u001b[0m\u001b[0;34m)\u001b[0m\u001b[0;34m)\u001b[0m\u001b[0;34m]\u001b[0m\u001b[0;34m\u001b[0m\u001b[0m\n\u001b[0m\u001b[1;32m      2\u001b[0m \u001b[0;34m\u001b[0m\u001b[0m\n\u001b[1;32m      3\u001b[0m \u001b[0mt0x\u001b[0m\u001b[0;34m[\u001b[0m\u001b[0;36m8\u001b[0m\u001b[0;34m]\u001b[0m\u001b[0;34m\u001b[0m\u001b[0m\n",
      "\u001b[0;31mIndexError\u001b[0m: invalid index to scalar variable."
     ]
    }
   ],
   "source": [
    "dtdx0=[dfdx(t0x,t0y,t0[i]) for i in range(len(t0x))]\n",
    "\n",
    "t0x[8]"
   ]
  },
  {
   "cell_type": "code",
   "execution_count": null,
   "metadata": {},
   "outputs": [],
   "source": []
  }
 ],
 "metadata": {
  "kernelspec": {
   "display_name": "Python 3",
   "language": "python",
   "name": "python3"
  },
  "language_info": {
   "codemirror_mode": {
    "name": "ipython",
    "version": 3
   },
   "file_extension": ".py",
   "mimetype": "text/x-python",
   "name": "python",
   "nbconvert_exporter": "python",
   "pygments_lexer": "ipython3",
   "version": "3.6.6"
  }
 },
 "nbformat": 4,
 "nbformat_minor": 2
}
