{
 "cells": [
  {
   "cell_type": "code",
   "execution_count": 1,
   "metadata": {},
   "outputs": [],
   "source": [
    "import numpy as np"
   ]
  },
  {
   "cell_type": "code",
   "execution_count": 2,
   "metadata": {},
   "outputs": [],
   "source": [
    "c = lambda x: -(4-x**2)**.5\n",
    "d = lambda x: (4-x**2)**.5\n",
    "al = lambda x,y : (x**2+y**2)**.5\n",
    "be = lambda x,y : 2\n",
    "\n",
    "#f = lambda x,y,z: (.5/np.pi)*(3/2.)*np.exp(-.5*(x**2+y**2+z**2))\n",
    "f = lambda x,y,z: z*(x**2+y**2)**.5\n",
    "coeff = np.loadtxt('coeff10.dat') #Pesos ci | Raices xi (Raices del polinomio de Legendre de grado 2 a 10)"
   ]
  },
  {
   "cell_type": "code",
   "execution_count": 7,
   "metadata": {},
   "outputs": [],
   "source": [
    "def TripleGauss(a,b,c,d,al,be,n,m,q):\n",
    "        r3_i = [] #Raices \n",
    "        r2_j = []\n",
    "        r1_k = []\n",
    "\n",
    "        c_i = [] #Coeficientes\n",
    "        c_j = []\n",
    "        c_k = []\n",
    "        \n",
    "        #Acomodando los coeficientes y raices\n",
    "        for i in range(coeff.shape[0]):\n",
    "            if (n==coeff[i][0]):\n",
    "                r3_i.append(coeff[i][2])\n",
    "                c_i.append(coeff[i][1])\n",
    "                \n",
    "        for j in range(coeff.shape[0]):\n",
    "            if (m==coeff[j][0]):\n",
    "                r2_j.append(coeff[j][2])\n",
    "                c_j.append(coeff[j][1])\n",
    "                \n",
    "        for k in range(coeff.shape[0]):\n",
    "            if (q==coeff[k][0]):\n",
    "                r1_k.append(coeff[k][2])\n",
    "                c_k.append(coeff[k][1])\n",
    "                \n",
    "        #Integracion\n",
    "        sum_i = 0.\n",
    "        for i in range(n):\n",
    "            x=((b-a)*r3_i[i]+b+a)*.5\n",
    "            \n",
    "            sum_j = 0.\n",
    "            for j in range(m):\n",
    "                y = ((d(x)-c(x))*r2_j[j]+d(x)+c(x))*.5\n",
    "                \n",
    "            \n",
    "                sum_k = 0.\n",
    "                for k in range(q):\n",
    "                    z =((be(x,y)-al(x,y))*r1_k[k]+be(x,y)+al(x,y))*.5\n",
    "                    \n",
    "                    sum_k+= c_k[k]*f(x,y,z)\n",
    "                \n",
    "                sum_j+= c_j[j]*(be(x,y)-al(x,y))*sum_k*.5\n",
    "            \n",
    "            sum_i+=c_i[i]*(d(x)-c(x))*sum_j*.5\n",
    "            \n",
    "        return sum_i*(b-a)*.5"
   ]
  },
  {
   "cell_type": "code",
   "execution_count": 8,
   "metadata": {},
   "outputs": [
    {
     "data": {
      "text/plain": [
       "12.656700863314043"
      ]
     },
     "execution_count": 8,
     "metadata": {},
     "output_type": "execute_result"
    }
   ],
   "source": [
    "TripleGauss(-2,2,c,d,al,be,5,5,5)"
   ]
  },
  {
   "cell_type": "code",
   "execution_count": null,
   "metadata": {},
   "outputs": [],
   "source": []
  }
 ],
 "metadata": {
  "kernelspec": {
   "display_name": "Python 3",
   "language": "python",
   "name": "python3"
  },
  "language_info": {
   "codemirror_mode": {
    "name": "ipython",
    "version": 3
   },
   "file_extension": ".py",
   "mimetype": "text/x-python",
   "name": "python",
   "nbconvert_exporter": "python",
   "pygments_lexer": "ipython3",
   "version": "3.5.2"
  }
 },
 "nbformat": 4,
 "nbformat_minor": 2
}
