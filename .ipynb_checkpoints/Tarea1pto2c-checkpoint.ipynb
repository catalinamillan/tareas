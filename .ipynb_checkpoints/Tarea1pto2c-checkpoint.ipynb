{
 "cells": [
  {
   "cell_type": "markdown",
   "metadata": {},
   "source": [
    "# Arreglos de Numpy: \n",
    "## Ejercicio 2.3\n",
    "\n",
    "\n",
    "### $$ \\begin{equation}\n",
    "f(\\theta)=cos(\\theta)\n",
    "\\end{equation}\n",
    "$$"
   ]
  },
  {
   "cell_type": "code",
   "execution_count": null,
   "metadata": {},
   "outputs": [],
   "source": [
    "import numpy as np"
   ]
  },
  {
   "cell_type": "code",
   "execution_count": 11,
   "metadata": {},
   "outputs": [],
   "source": [
    "#Se define la función factorial\n",
    "def fact(x): \n",
    "    if x==0: \n",
    "        return 1\n",
    "    else: \n",
    "        n=1\n",
    "        for i in range(1,x+1):\n",
    "            n=n*i\n",
    "    return n"
   ]
  },
  {
   "cell_type": "code",
   "execution_count": 13,
   "metadata": {},
   "outputs": [],
   "source": [
    "def cos(x,N): #Se ingresa el número en radianes y el número de iteraciones que se quiera \n",
    "    cos=0\n",
    "    for n in range(0,N+1):\n",
    "        cos=cos+(-1)**n*x**(2*n)/fact(2*n)\n",
    "    return cos"
   ]
  },
  {
   "cell_type": "code",
   "execution_count": 14,
   "metadata": {},
   "outputs": [
    {
     "name": "stdout",
     "output_type": "stream",
     "text": [
      "El coseno de 0 pi/2, es 1.000000\n",
      "El coseno de 1 pi/2, es 0.000000\n",
      "El coseno de 2 pi/2, es -1.000000\n",
      "El coseno de 3 pi/2, es 0.000001\n",
      "El coseno de 4 pi/2, es 1.000301\n"
     ]
    }
   ],
   "source": [
    "#Con 10 iteraciones\n",
    "n=0 \n",
    "for i in range(0,5):\n",
    "    print (\"El coseno de %d pi/2, es %f\" %(n,cos(np.pi*n/2,10)))\n",
    "    n=n+1"
   ]
  },
  {
   "cell_type": "code",
   "execution_count": 15,
   "metadata": {},
   "outputs": [
    {
     "name": "stdout",
     "output_type": "stream",
     "text": [
      "El coseno de 0 pi/2, es 1.000000\n",
      "El coseno de 1 pi/2, es -0.000000\n",
      "El coseno de 2 pi/2, es -1.001829\n",
      "El coseno de 3 pi/2, es -0.222441\n",
      "El coseno de 4 pi/2, es -5.438247\n"
     ]
    }
   ],
   "source": [
    "#Con 5 iteraciones\n",
    "n=0 \n",
    "for i in range(0,5):\n",
    "    print (\"El coseno de %d pi/2, es %f\" %(n,cos(np.pi*n/2,5)))\n",
    "    n=n+1"
   ]
  },
  {
   "cell_type": "code",
   "execution_count": 16,
   "metadata": {},
   "outputs": [
    {
     "name": "stdout",
     "output_type": "stream",
     "text": [
      "El coseno de 0 pi/2, es 1.000000\n",
      "El coseno de 1 pi/2, es 0.019969\n",
      "El coseno de 2 pi/2, es 0.123910\n",
      "El coseno de 3 pi/2, es 10.443925\n",
      "El coseno de 4 pi/2, es 46.200185\n"
     ]
    }
   ],
   "source": [
    "#Con 2 iteraciones\n",
    "n=0 \n",
    "for i in range(0,5):\n",
    "    print (\"El coseno de %d pi/2, es %f\" %(n,cos(np.pi*n/2,2)))\n",
    "    n=n+1"
   ]
  },
  {
   "cell_type": "code",
   "execution_count": 17,
   "metadata": {},
   "outputs": [
    {
     "name": "stdout",
     "output_type": "stream",
     "text": [
      "El coseno de 5 pi/2, es -1.000000\n",
      "El coseno de 6 pi/2, es 1.000000\n",
      "El coseno de 7 pi/2, es -1.000000\n",
      "El coseno de 8 pi/2, es 1.000000\n",
      "El coseno de 9 pi/2, es -1.000000\n"
     ]
    }
   ],
   "source": [
    "#Con la función coseno de Numpy \n",
    "for i in range(0,5):\n",
    "    print (\"El coseno de %d pi/2, es %f\" %(n,np.cos(np.pi*n)))\n",
    "    n=n+1"
   ]
  },
  {
   "cell_type": "code",
   "execution_count": null,
   "metadata": {},
   "outputs": [],
   "source": []
  }
 ],
 "metadata": {
  "kernelspec": {
   "display_name": "Python 2",
   "language": "python",
   "name": "python2"
  },
  "language_info": {
   "codemirror_mode": {
    "name": "ipython",
    "version": 2
   },
   "file_extension": ".py",
   "mimetype": "text/x-python",
   "name": "python",
   "nbconvert_exporter": "python",
   "pygments_lexer": "ipython2",
   "version": "2.7.12"
  }
 },
 "nbformat": 4,
 "nbformat_minor": 1
}
