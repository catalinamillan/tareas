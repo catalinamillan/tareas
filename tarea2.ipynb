{
 "metadata": {
  "name": "",
  "signature": "sha256:f332297d4c8b0fa8543cb22c0a72ad0a2f5560027762476425e0184bf3b1c89e"
 },
 "nbformat": 3,
 "nbformat_minor": 0,
 "worksheets": [
  {
   "cells": [
    {
     "cell_type": "markdown",
     "metadata": {},
     "source": [
      "# Tarea 2\n",
      "## 1. a"
     ]
    },
    {
     "cell_type": "code",
     "collapsed": false,
     "input": [
      "import numpy as np"
     ],
     "language": "python",
     "metadata": {},
     "outputs": [],
     "prompt_number": 1
    },
    {
     "cell_type": "markdown",
     "metadata": {},
     "source": [
      "Resolver la ecuaci\u00f3n usando np.float16() y comprarar con doble presici\u00f3n \n",
      "\n",
      "a)\n",
      "\n",
      "$$1.130x-6.990y=14.20$$\n",
      "$$1.013x+6.6099y=14.22$$\n",
      "\n",
      "b)\n",
      "\n",
      "$$8.110x+12.20y=-0.1370$$\n",
      "$$-18.11x-112.2y=-0.1376$$"
     ]
    },
    {
     "cell_type": "code",
     "collapsed": false,
     "input": [
      "#Presici\u00f3n de 16 bits\n",
      "a=np.float16(1.130)\n",
      "b=np.float16(-6.990)\n",
      "e=np.float16(14.20)\n",
      "c=np.float16(1.013)\n",
      "d=np.float16(-6.099)\n",
      "f=np.float16(14.22)\n",
      "m=c/a"
     ],
     "language": "python",
     "metadata": {},
     "outputs": [],
     "prompt_number": 2
    },
    {
     "cell_type": "code",
     "collapsed": false,
     "input": [
      "d1=d-m*b\n",
      "f1=f-m*e\n",
      "y=f1/d1\n",
      "x=(e-b*y)/a"
     ],
     "language": "python",
     "metadata": {},
     "outputs": [],
     "prompt_number": 3
    },
    {
     "cell_type": "code",
     "collapsed": false,
     "input": [
      "#Presici\u00f3n de 32 bits\n",
      "a32=np.float32(1.130)\n",
      "b32=np.float32(-6.990)\n",
      "e32=np.float32(14.20)\n",
      "c32=np.float32(1.013)\n",
      "d32=np.float32(-6.099)\n",
      "f32=np.float32(14.22)\n",
      "m32=c32/a32"
     ],
     "language": "python",
     "metadata": {},
     "outputs": [],
     "prompt_number": 4
    },
    {
     "cell_type": "code",
     "collapsed": false,
     "input": [
      "d1_32=d32-m32*b32\n",
      "f1_32=f32-m32*e32\n",
      "y32=f1_32/d1_32\n",
      "x32=(e32-b32*y32)/a32"
     ],
     "language": "python",
     "metadata": {},
     "outputs": [],
     "prompt_number": 5
    },
    {
     "cell_type": "code",
     "collapsed": false,
     "input": [
      "print('Con 16 bits \\n  x=%f, y=%f \\n \\nCon 32 bits \\n  x=%g, y=%g'%(x,y,x32,y32))"
     ],
     "language": "python",
     "metadata": {},
     "outputs": [
      {
       "output_type": "stream",
       "stream": "stdout",
       "text": [
        "Con 16 bits \n",
        "  x=67.187500, y=8.835938 \n",
        " \n",
        "Con 32 bits \n",
        "  x=67.6826, y=8.91007\n"
       ]
      }
     ],
     "prompt_number": 6
    },
    {
     "cell_type": "markdown",
     "metadata": {},
     "source": [
      "## 1. b"
     ]
    },
    {
     "cell_type": "code",
     "collapsed": false,
     "input": [
      "#Presisci\u00f3n de 16 bits\n",
      "A=np.float16(8.110)\n",
      "B=np.float16(12.20)\n",
      "E=np.float16(-.1370)\n",
      "C=np.float16(-18.11)\n",
      "D=np.float16(112.2)\n",
      "F=np.float16(-.1376)\n",
      "M=C/A"
     ],
     "language": "python",
     "metadata": {},
     "outputs": [],
     "prompt_number": 9
    },
    {
     "cell_type": "code",
     "collapsed": false,
     "input": [
      "D1=D-M*B\n",
      "F1=F-M*E\n",
      "Y=F1/D1\n",
      "X=(E-B*Y)\n",
      "X=(E-B*Y)/A"
     ],
     "language": "python",
     "metadata": {},
     "outputs": [],
     "prompt_number": 10
    },
    {
     "cell_type": "code",
     "collapsed": false,
     "input": [
      "#Presici\u00f3n de 32 bits \n",
      "A32=np.float32(8.110)\n",
      "B32=np.float32(12.20)\n",
      "E32=np.float32(-.1370)\n",
      "C32=np.float32(-18.11)\n",
      "D32=np.float32(112.2)\n",
      "F32=np.float32(-.1376)\n",
      "M32=C32/A32"
     ],
     "language": "python",
     "metadata": {},
     "outputs": [],
     "prompt_number": 11
    },
    {
     "cell_type": "code",
     "collapsed": false,
     "input": [
      "D1_32=D32-M32*B32\n",
      "F1_32=F32-M32*E32\n",
      "Y32=F1_32/D1_32\n",
      "X32=(E32-B32*Y32)\n",
      "X32=(E32-B32*Y32)/A32"
     ],
     "language": "python",
     "metadata": {},
     "outputs": [],
     "prompt_number": 12
    },
    {
     "cell_type": "code",
     "collapsed": false,
     "input": [
      "print('Con 16 bits \\n  x=%f, y=%f \\n \\nCon 32 bits \\n  x=%g, y=%g'%(X,Y,X32,Y32))"
     ],
     "language": "python",
     "metadata": {},
     "outputs": [
      {
       "output_type": "stream",
       "stream": "stdout",
       "text": [
        "Con 16 bits \n",
        "  x=-0.012100, y=-0.003178 \n",
        " \n",
        "Con 32 bits \n",
        "  x=-0.0121079, y=-0.0031807\n"
       ]
      }
     ],
     "prompt_number": 13
    },
    {
     "cell_type": "markdown",
     "metadata": {},
     "source": [
      "## 2. \n",
      "Encontrar las raices de la ecuaci\u00f3n \n",
      "$$ \n",
      "\\begin{equation}\n",
      "\\displaystyle x^2+62.10+1=0\n",
      "\\end{equation}\n",
      "$$\n",
      "\n",
      "## a.\n",
      "1)\n",
      "\\begin{equation}\n",
      "x_1=\\frac{-b+\\sqrt{b\u00b2-4ac}}{2a}\n",
      "\\end{equation}\n",
      "\\begin{equation}\n",
      "x_2=\\frac{-b-\\sqrt{b\u00b2-4ac}}{2a}\n",
      "\\end{equation}\n",
      "2)\n",
      "\\begin{equation}\n",
      "x_1=\\frac{-2c}{b+\\sqrt{b^2-4ac}}\n",
      "\\end{equation}\n",
      "\\begin{equation}\n",
      "x_2=\\frac{-2c}{b-\\sqrt{b^2-4ac}}\n",
      "\\end{equation}"
     ]
    },
    {
     "cell_type": "code",
     "collapsed": false,
     "input": [
      "import numpy as np"
     ],
     "language": "python",
     "metadata": {},
     "outputs": [],
     "prompt_number": 14
    },
    {
     "cell_type": "code",
     "collapsed": false,
     "input": [
      "a=np.float16(1.)\n",
      "b=np.float16(62.10)\n",
      "c=np.float16(1.)\n",
      "q=np.float16(4.)\n",
      "s=np.float16(.5)\n",
      "d=np.float16(2.)"
     ],
     "language": "python",
     "metadata": {},
     "outputs": [],
     "prompt_number": 15
    },
    {
     "cell_type": "code",
     "collapsed": false,
     "input": [
      "#con 1)\n",
      "x_1=(-b+(b**d-q*a*c)**s)/(d*a) \n",
      "x_2=(-b-(b**d-q*a*c)**s)/(d*a)\n",
      "#con 2)\n",
      "X_1=-d*c/(b+(b**d-q*a*c)**s)\n",
      "X_2=-d*c/(b-(b**d-q*a*c)**s)"
     ],
     "language": "python",
     "metadata": {},
     "outputs": [],
     "prompt_number": 16
    },
    {
     "cell_type": "code",
     "collapsed": false,
     "input": [
      "print('Con la ecuaci\u00f3n 1) x1=%.16e x2=%.16f ' %(x_1,x_2))\n",
      "print('Con la ecuaci\u00f3n 2) x1=%.16e x2%.16f' %(X_1,X_2))"
     ],
     "language": "python",
     "metadata": {},
     "outputs": [
      {
       "output_type": "stream",
       "stream": "stdout",
       "text": [
        "Con la ecuaci\u00f3n 1) x1=-1.5625000000000000e-02 x2=-62.0625000000000000 \n",
        "Con la ecuaci\u00f3n 2) x1=-1.6113281250000000e-02 x2-64.0000000000000000\n"
       ]
      }
     ],
     "prompt_number": 17
    },
    {
     "cell_type": "markdown",
     "metadata": {},
     "source": [
      "### Conclusi\u00f3n: \n",
      "Los resultados m\u00e1s aproximados para la ecuaci\u00f3n cuadr\u00e1tica son x2 de 1) y x1 de 2), pues en esos la cancelaci\u00f3n sustractiva no se presenta. "
     ]
    },
    {
     "cell_type": "code",
     "collapsed": false,
     "input": [],
     "language": "python",
     "metadata": {},
     "outputs": []
    }
   ],
   "metadata": {}
  }
 ]
}