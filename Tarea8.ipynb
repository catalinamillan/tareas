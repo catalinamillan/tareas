{
 "cells": [
  {
   "cell_type": "markdown",
   "metadata": {},
   "source": [
    "\n",
    "LUIS EDUARDO SANTANDER RODRÍGUEZ <luis.santander@udea.edu.co>\n",
    "8:29 (hace 9 minutos)\n",
    "para ANLLY, ESNEIDER, mí\n",
    "\n",
    "<h2><center> Exercises </center></h2>\n",
    "\n",
    "\n",
    "1. Computes the integral $$ \\int_0^1 dx \\frac{4}{1+x^2} $$ by Riemman sums with $N=1,10^2, 10^4,10^6, 10^8$ and gives percent error and computational time. Predict the computational time for $N=10^{12}$, and obtain the minimum $N$ for error $10^{-6}$.\n",
    "\n",
    "<h2><center>  </center></h2>\n"
   ]
  },
  {
   "cell_type": "code",
   "execution_count": 235,
   "metadata": {},
   "outputs": [],
   "source": [
    "import numpy as np\n",
    "import scipy.integrate as integrate\n",
    "import time\n",
    "import matplotlib.pyplot as plt"
   ]
  },
  {
   "cell_type": "code",
   "execution_count": 236,
   "metadata": {},
   "outputs": [],
   "source": [
    "f = lambda x: 4./(1.+x**2)"
   ]
  },
  {
   "cell_type": "code",
   "execution_count": 237,
   "metadata": {
    "scrolled": true
   },
   "outputs": [
    {
     "name": "stdout",
     "output_type": "stream",
     "text": [
      "Para N=10e 0, f(x)= 4.0000000000000000e+00, error=2.73e-01, t=8.39e-05 s\n",
      "Para N=10e 2, f(x)= 3.1515759869231270e+00, error=3.18e-03, t=3.95e-04 s\n",
      "Para N=10e 4, f(x)= 3.1416926519231168e+00, error=3.18e-05, t=1.85e-02 s\n",
      "Para N=10e 6, f(x)= 3.1415936535895672e+00, error=3.18e-07, t=1.10e+00 s\n",
      "Para N=10e 8, f(x)= 3.1415926635900346e+00, error=3.18e-09, t=1.18e+02 s\n"
     ]
    }
   ],
   "source": [
    "t_list = []\n",
    "i_list = []\n",
    "e_list = []\n",
    "for j in range(0,9,2):\n",
    "    \n",
    "    t0=time.time()\n",
    "    \n",
    "    a=0\n",
    "    b=1.\n",
    "    N=10**j\n",
    "    dx=(b-a)/N\n",
    "\n",
    "    sum = 0\n",
    "    n=np.arange(a,b,dx)\n",
    "    for i in n:\n",
    "        sum+=f(i)*dx\n",
    "    error = abs(sum-np.pi)/np.pi\n",
    "    \n",
    "    tiempo_comp=time.time()-t0\n",
    "    t_list.append(tiempo_comp)\n",
    "    i_list.append(j)\n",
    "    e_list.append(error)\n",
    "    print(\"Para N=10e %d, f(x)= %.16e, error=%.2e, t=%.2e s\" %(j,sum,error,tiempo_comp))"
   ]
  },
  {
   "cell_type": "markdown",
   "metadata": {},
   "source": [
    "El error decrece en un factor de $10^{-N-2}$, para $10^{-16}$, N=e 18"
   ]
  },
  {
   "cell_type": "code",
   "execution_count": 238,
   "metadata": {},
   "outputs": [
    {
     "data": {
      "image/png": "[encoded data removed]",
      "text/plain": [
       "<Figure size 432x288 with 1 Axes>"
      ]
     },
     "metadata": {
      "needs_background": "light"
     },
     "output_type": "display_data"
    }
   ],
   "source": [
    "fig=plt.figure()\n",
    "plt.subplot(2,1,1)\n",
    "ax=plt.axes()\n",
    "ax.grid()\n",
    "ax.plot(i_list,e_list,'*')\n",
    "ax.set_yscale('log')\n",
    "\n",
    "plt.subplot(2,1,2)\n",
    "ax=plt.axes()\n",
    "ax.grid()\n",
    "ax.plot(i_list,t_list,'*')\n",
    "ax.set_yscale('log')\n",
    "plt.show()"
   ]
  },
  {
   "cell_type": "code",
   "execution_count": 239,
   "metadata": {},
   "outputs": [
    {
     "data": {
      "image/png": "[encoded data removed]",
      "text/plain": [
       "<Figure size 432x288 with 1 Axes>"
      ]
     },
     "metadata": {
      "needs_background": "light"
     },
     "output_type": "display_data"
    }
   ],
   "source": [
    "fig=plt.figure()\n",
    "ax=plt.axes()\n",
    "ax.grid()\n",
    "ax.plot(i_list,t_list,'*')\n",
    "ax.set_yscale('log')\n",
    "plt.show()"
   ]
  },
  {
   "cell_type": "markdown",
   "metadata": {},
   "source": [
    "2. An experiment has measured $dN(t)/dt$, the number of particles entering a counter, per unit time, as a function of time. Your problem is to integrate this spectrum to obtain the number of particles $N(1)$ that entered the counter in the first second \n",
    "$$ N(1) = \\int_0^1 e^{-t} dt$$\n",
    "Compare the relative error for the composite trapezoid and Simpson rules. Try different values of N. Make a logarithmic plot of N vs Error."
   ]
  },
  {
   "cell_type": "code",
   "execution_count": 94,
   "metadata": {},
   "outputs": [],
   "source": [
    "f = lambda t: np.exp(-t)"
   ]
  },
  {
   "cell_type": "code",
   "execution_count": 95,
   "metadata": {},
   "outputs": [],
   "source": [
    "int_f = lambda a,b: -np.exp(-b)+np.exp(-a) #integral verdadera"
   ]
  },
  {
   "cell_type": "code",
   "execution_count": 182,
   "metadata": {},
   "outputs": [],
   "source": [
    "### Composite Trapezoidal Rule\n",
    "def TrapComp(f,a,b,n):\n",
    "    h=(b-a)/np.float(n) #Espaciamiento\n",
    "\n",
    "    sum = 0\n",
    "    for i in range(1,n):\n",
    "        sum+= f(a+h*i) \n",
    "    return h/2.*(f(a)+2.*sum+f(b))\n",
    "    return sum"
   ]
  },
  {
   "cell_type": "code",
   "execution_count": 183,
   "metadata": {},
   "outputs": [],
   "source": [
    "### Simpsons Composite Rule\n",
    "def SimpComp(f,a,b,n): \n",
    "    \n",
    "    h = (b-a)/np.float(n) #Espaciamiento\n",
    "    \n",
    "    x_node = np.zeros(n+1) # Vector de nodos\n",
    "    \n",
    "    for i in range(n+1): \n",
    "        x_node[i] = a+ h*i\n",
    "            \n",
    "    #Integracion\n",
    "    suma_impar = 0\n",
    "    for i in range(1,int(n/2.)+1):\n",
    "        suma_impar += f(x_node[2*i-1])\n",
    "    \n",
    "    suma_par = 0\n",
    "    for i in range(1,int(n/2.)):\n",
    "        suma_par+= f(x_node[2*i])\n",
    "\n",
    "    return h/3.*(f(a)+2.*suma_par+4.*suma_impar+f(b))"
   ]
  },
  {
   "cell_type": "code",
   "execution_count": 213,
   "metadata": {},
   "outputs": [],
   "source": [
    "def N1(t,n): # integral calculada con Simpson Compuesta con n nodos\n",
    "    error = abs(int_f(0,t)-SimpComp(f,0,t,n))\n",
    "    return (SimpComp(f,0,t,n), error)\n",
    "\n",
    "def N2(t,n): # integral calculada con Trapezoide Compuesta con n nodos\n",
    "    error = abs(int_f(0,t)-TrapComp(f,0,t,n))\n",
    "    return (TrapComp(f,0,t,n), error)"
   ]
  },
  {
   "cell_type": "code",
   "execution_count": 257,
   "metadata": {},
   "outputs": [],
   "source": [
    "n=10 # Las particiones que hago son n*t para que cada integral se calcule sobre los mismos nodos igualmente espaciados\n",
    "t_list=[i for i in range(0,10)] #Tiempo de 1 a 10 segundos, si se toma t mayores, se supera el épsilon de la máquina\n",
    "\n",
    "N1_list = [N1(t,n)[0] for t in t_list] #Lista de integrales hechas con Simpson Compuesta\n",
    "N1_error = [N1(t,n)[1] for t in t_list] #Errores absolutos \n",
    "\n",
    "N2_list = [N2(t,n)[0] for t in t_list] #Lista de integrales hechas con Trapecio Compuesta \n",
    "N2_error = [N2(t,n)[1] for t in t_list] #Errores absolutos\n",
    "\n",
    "f_int_list = [int_f(0,t) for t in t_list] #Lista de los valores reales de la integral "
   ]
  },
  {
   "cell_type": "code",
   "execution_count": 258,
   "metadata": {},
   "outputs": [
    {
     "data": {
      "image/png": "[encoded data removed]",
      "text/plain": [
       "<Figure size 432x288 with 1 Axes>"
      ]
     },
     "metadata": {
      "needs_background": "light"
     },
     "output_type": "display_data"
    },
    {
     "data": {
      "image/png": "[encoded data removed]",
      "text/plain": [
       "<Figure size 432x288 with 1 Axes>"
      ]
     },
     "metadata": {
      "needs_background": "light"
     },
     "output_type": "display_data"
    }
   ],
   "source": [
    "#Graficas\n",
    "fig=plt.figure()\n",
    "plt.subplot(1,2,1)\n",
    "ax=plt.axes()\n",
    "ax.grid()\n",
    "ax.plot(N2_list,N2_error,'+')\n",
    "#ax.set_yscale('log')\n",
    "#ax.set_xscale('log')\n",
    "plt.xlabel('log(N)')\n",
    "plt.ylabel('log(ERR)')\n",
    "plt.title('Trapezoides Compuestos')\n",
    "plt.show()\n",
    "\n",
    "plt.subplot(1,2,2)\n",
    "ax=plt.axes()\n",
    "ax.grid()\n",
    "ax.plot(N1_list,N1_error,'+')\n",
    "#ax.set_yscale('log')\n",
    "#ax.set_xscale('log')\n",
    "plt.xlabel('log(N)')\n",
    "plt.ylabel('log(ERR)') \n",
    "plt.title('Simpson Comuestos')\n",
    "plt.show('T1')"
   ]
  },
  {
   "cell_type": "markdown",
   "metadata": {},
   "source": [
    "Se observa que el error es mucho menor en el Metodo de Simpson Compuesto en un factor de $10^{-5}$"
   ]
  },
  {
   "cell_type": "code",
   "execution_count": null,
   "metadata": {},
   "outputs": [],
   "source": []
  }
 ],
 "metadata": {
  "kernelspec": {
   "display_name": "Python 2",
   "language": "python",
   "name": "python2"
  },
  "language_info": {
   "codemirror_mode": {
    "name": "ipython",
    "version": 2
   },
   "file_extension": ".py",
   "mimetype": "text/x-python",
   "name": "python",
   "nbconvert_exporter": "python",
   "pygments_lexer": "ipython2",
   "version": "2.7.12"
  }
 },
 "nbformat": 4,
 "nbformat_minor": 2
}
