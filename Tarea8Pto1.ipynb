{
 "cells": [
  {
   "cell_type": "markdown",
   "metadata": {},
   "source": [
    "\n",
    "LUIS EDUARDO SANTANDER RODRÍGUEZ <luis.santander@udea.edu.co>\n",
    "8:29 (hace 9 minutos)\n",
    "para ANLLY, ESNEIDER, mí\n",
    "\n",
    "<h2><center> Exercises </center></h2>\n",
    "\n",
    "\n",
    "1. Computes the integral $$ \\int_0^1 dx \\frac{4}{1+x^2} $$ by Riemman sums with $N=1,10^2, 10^4,10^6, 10^8$ and gives percent error and computational time. Predict the computational time for $N=10^{12}$, and obtain the minimum $N$ for error $10^{-6}$.\n",
    "\n",
    "<h2><center>  </center></h2>\n"
   ]
  },
  {
   "cell_type": "code",
   "execution_count": 235,
   "metadata": {},
   "outputs": [],
   "source": [
    "import numpy as np\n",
    "import scipy.integrate as integrate\n",
    "import time\n",
    "import matplotlib.pyplot as plt"
   ]
  },
  {
   "cell_type": "code",
   "execution_count": 236,
   "metadata": {},
   "outputs": [],
   "source": [
    "f = lambda x: 4./(1.+x**2)"
   ]
  },
  {
   "cell_type": "code",
   "execution_count": 237,
   "metadata": {
    "scrolled": true
   },
   "outputs": [
    {
     "name": "stdout",
     "output_type": "stream",
     "text": [
      "Para N=10e 0, f(x)= 4.0000000000000000e+00, error=2.73e-01, t=8.39e-05 s\n",
      "Para N=10e 2, f(x)= 3.1515759869231270e+00, error=3.18e-03, t=3.95e-04 s\n",
      "Para N=10e 4, f(x)= 3.1416926519231168e+00, error=3.18e-05, t=1.85e-02 s\n",
      "Para N=10e 6, f(x)= 3.1415936535895672e+00, error=3.18e-07, t=1.10e+00 s\n",
      "Para N=10e 8, f(x)= 3.1415926635900346e+00, error=3.18e-09, t=1.18e+02 s\n"
     ]
    }
   ],
   "source": [
    "t_list = []\n",
    "i_list = []\n",
    "e_list = []\n",
    "for j in range(0,9,2):\n",
    "    \n",
    "    t0=time.time()\n",
    "    \n",
    "    a=0\n",
    "    b=1.\n",
    "    N=10**j\n",
    "    dx=(b-a)/N\n",
    "\n",
    "    sum = 0\n",
    "    n=np.arange(a,b,dx)\n",
    "    for i in n:\n",
    "        sum+=f(i)*dx\n",
    "    error = abs(sum-np.pi)/np.pi\n",
    "    \n",
    "    tiempo_comp=time.time()-t0\n",
    "    t_list.append(tiempo_comp)\n",
    "    i_list.append(j)\n",
    "    e_list.append(error)\n",
    "    print(\"Para N=10e %d, f(x)= %.16e, error=%.2e, t=%.2e s\" %(j,sum,error,tiempo_comp))"
   ]
  },
  {
   "cell_type": "markdown",
   "metadata": {},
   "source": [
    "El error decrece en un factor de $10^{-N-2}$, para $10^{-16}$, N=e 18"
   ]
  },
  {
   "cell_type": "code",
   "execution_count": 238,
   "metadata": {},
   "outputs": [
    {
     "data": {
      "image/png": "[encoded data removed]",
      "text/plain": [
       "<Figure size 432x288 with 1 Axes>"
      ]
     },
     "metadata": {
      "needs_background": "light"
     },
     "output_type": "display_data"
    }
   ],
   "source": [
    "fig=plt.figure()\n",
    "plt.subplot(2,1,1)\n",
    "ax=plt.axes()\n",
    "ax.grid()\n",
    "ax.plot(i_list,e_list,'*')\n",
    "ax.set_yscale('log')\n",
    "\n",
    "plt.subplot(2,1,2)\n",
    "ax=plt.axes()\n",
    "ax.grid()\n",
    "ax.plot(i_list,t_list,'*')\n",
    "ax.set_yscale('log')\n",
    "plt.show()"
   ]
  },
  {
   "cell_type": "code",
   "execution_count": 239,
   "metadata": {},
   "outputs": [
    {
     "data": {
      "image/png": "[encoded data removed]",
      "text/plain": [
       "<Figure size 432x288 with 1 Axes>"
      ]
     },
     "metadata": {
      "needs_background": "light"
     },
     "output_type": "display_data"
    }
   ],
   "source": [
    "fig=plt.figure()\n",
    "ax=plt.axes()\n",
    "ax.grid()\n",
    "ax.plot(i_list,t_list,'*')\n",
    "ax.set_yscale('log')\n",
    "plt.show()"
   ]
  }
 ],
 "metadata": {
  "kernelspec": {
   "display_name": "Python 2",
   "language": "python",
   "name": "python2"
  },
  "language_info": {
   "codemirror_mode": {
    "name": "ipython",
    "version": 2
   },
   "file_extension": ".py",
   "mimetype": "text/x-python",
   "name": "python",
   "nbconvert_exporter": "python",
   "pygments_lexer": "ipython2",
   "version": "2.7.12"
  }
 },
 "nbformat": 4,
 "nbformat_minor": 2
}
