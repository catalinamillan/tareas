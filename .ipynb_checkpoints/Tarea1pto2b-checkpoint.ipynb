{
 "cells": [
  {
   "cell_type": "markdown",
   "metadata": {},
   "source": [
    "# Arreglos de Numpy: \n",
    "## Ejercicio 2.2\n",
    "Programa que organiza una lista de números "
   ]
  },
  {
   "cell_type": "code",
   "execution_count": 6,
   "metadata": {},
   "outputs": [],
   "source": [
    "import numpy as np"
   ]
  },
  {
   "cell_type": "code",
   "execution_count": 7,
   "metadata": {},
   "outputs": [],
   "source": [
    "numeros=[]\n",
    "N=20\n",
    "#N=int(input((\"Longitud de la lista: N= \")))"
   ]
  },
  {
   "cell_type": "code",
   "execution_count": 8,
   "metadata": {},
   "outputs": [],
   "source": [
    "#creacion de la lista desordenada\n",
    "for i in range(0,N):\n",
    "  numeros.append(np.random.randint(N))"
   ]
  },
  {
   "cell_type": "code",
   "execution_count": 9,
   "metadata": {},
   "outputs": [],
   "source": [
    "ordenados=sorted(numeros)"
   ]
  },
  {
   "cell_type": "code",
   "execution_count": 10,
   "metadata": {},
   "outputs": [
    {
     "name": "stdout",
     "output_type": "stream",
     "text": [
      "('La lista ', [1, 4, 12, 1, 10, 16, 4, 8, 14, 5, 7, 10, 5, 12, 18, 7, 10, 17, 10, 14], 'ordenada es ', [1, 1, 4, 4, 5, 5, 7, 7, 8, 10, 10, 10, 10, 12, 12, 14, 14, 16, 17, 18])\n"
     ]
    }
   ],
   "source": [
    "print('La lista ', numeros, 'ordenada es ', ordenados)"
   ]
  },
  {
   "cell_type": "code",
   "execution_count": null,
   "metadata": {},
   "outputs": [],
   "source": []
  }
 ],
 "metadata": {
  "kernelspec": {
   "display_name": "Python 2",
   "language": "python",
   "name": "python2"
  },
  "language_info": {
   "codemirror_mode": {
    "name": "ipython",
    "version": 2
   },
   "file_extension": ".py",
   "mimetype": "text/x-python",
   "name": "python",
   "nbconvert_exporter": "python",
   "pygments_lexer": "ipython2",
   "version": "2.7.12"
  }
 },
 "nbformat": 4,
 "nbformat_minor": 1
}
