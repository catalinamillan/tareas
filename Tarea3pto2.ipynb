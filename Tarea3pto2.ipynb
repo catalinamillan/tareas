{
 "cells": [
  {
   "cell_type": "markdown",
   "metadata": {},
   "source": [
    "### Usando el método de punto fijo, hallar t cuando S(t)=0\n",
    "\n",
    "$$\n",
    "\\begin{equation}\n",
    "s(t) = s_0 − \\frac{mg}{k} t + \\frac{m^2g}{k^2}(1 − e^{\\frac{−kt}{m}} )\n",
    "\\end{equation}\n",
    "$$\n"
   ]
  },
  {
   "cell_type": "code",
   "execution_count": 46,
   "metadata": {},
   "outputs": [],
   "source": [
    "import numpy as np \n",
    "import matplotlib.pyplot as plt"
   ]
  },
  {
   "cell_type": "code",
   "execution_count": 51,
   "metadata": {},
   "outputs": [],
   "source": [
    "g=32.17 #ft/s^2\n",
    "k=.1 #lb-s/ft\n",
    "s_0=300 #ft\n",
    "m=.25 #lb \n",
    "\n",
    "def f(x):\n",
    "    return s_0-m*g/k*x+m**2*g/k**2*(1-np.exp(-k*x/m))\n",
    "def h(x): \n",
    "    return k/(m*g)*(s_0+m**2*g/k**2*(1-np.exp(-k*x/m))) # Ecuación manipulada para usar punto fijo"
   ]
  },
  {
   "cell_type": "code",
   "execution_count": 52,
   "metadata": {},
   "outputs": [],
   "source": [
    "Tol=1.e-8 #Tolerancia\n",
    "Nmax=1000 #Número máximo de iteraciones\n",
    "p_0=7.  #Primera aproximacion \n",
    "iteracion=0\n",
    "error=1."
   ]
  },
  {
   "cell_type": "code",
   "execution_count": 53,
   "metadata": {},
   "outputs": [
    {
     "name": "stdout",
     "output_type": "stream",
     "text": [
      "p=6.0781582441208224 \t error=0.9218417558791776 \t f(p)=6.0781582441208224\n",
      "p=6.0103691854860051 \t error=0.0677890586348173 \t f(p)=6.0103691854860051\n",
      "p=6.0043272406401957 \t error=0.0060419448458093 \t f(p)=6.0043272406401957\n",
      "p=6.0037807363315938 \t error=0.0005465043086019 \t f(p)=6.0037807363315938\n",
      "p=6.0037312389090607 \t error=0.0000494974225331 \t f(p)=6.0037312389090607\n",
      "p=6.0037267553453422 \t error=0.0000044835637185 \t f(p)=6.0037267553453422\n",
      "p=6.0037263492118580 \t error=0.0000004061334842 \t f(p)=6.0037263492118580\n",
      "p=6.0037263124231384 \t error=0.0000000367887196 \t f(p)=6.0037263124231384\n",
      "\n",
      " Solución: t=6.0037263090907116\n"
     ]
    }
   ],
   "source": [
    "#Metodo de punto fijo\n",
    "while(iteracion<Nmax):\n",
    "    p=h(p_0)\n",
    "    error=abs(p-p_0)\n",
    "    if(error<Tol):\n",
    "        break\n",
    "    print(\"p=%.16f \\t error=%.16f \\t f(p)=%.16f\" %(p,error,h(p_0)))\n",
    "    iteracion+=1\n",
    "    p_0=p\n",
    "if(iteracion>=Nmax):\n",
    "    print(\"El procesio falla luego de %d iteraciones\" %Nmax)\n",
    "\n",
    "print(\"\\n Solución: t=%.16f\" %p)"
   ]
  },
  {
   "cell_type": "code",
   "execution_count": 34,
   "metadata": {},
   "outputs": [
    {
     "data": {
      "image/png": "[encoded data removed]",
      "text/plain": [
       "<Figure size 432x288 with 1 Axes>"
      ]
     },
     "metadata": {
      "needs_background": "light"
     },
     "output_type": "display_data"
    }
   ],
   "source": [
    "#Gráfica\n",
    "x_list=np.linspace(-5,10,50)\n",
    "y_list=[]\n",
    "for i in range(0,50):\n",
    "    y_list.append(f(x_list[i]))\n",
    "\n",
    "fig=plt.figure()\n",
    "plt.title(\"Grafica\")\n",
    "ax=plt.axes()\n",
    "ax.grid()\n",
    "ax.plot(x_list,y_list,'*')\n",
    "ax.set_xlabel('t',fontsize=14)\n",
    "ax.set_ylabel('F(t)',fontsize=14)\n",
    "plt.show()"
   ]
  },
  {
   "cell_type": "code",
   "execution_count": null,
   "metadata": {},
   "outputs": [],
   "source": []
  }
 ],
 "metadata": {
  "kernelspec": {
   "display_name": "Python 2",
   "language": "python",
   "name": "python2"
  },
  "language_info": {
   "codemirror_mode": {
    "name": "ipython",
    "version": 2
   },
   "file_extension": ".py",
   "mimetype": "text/x-python",
   "name": "python",
   "nbconvert_exporter": "python",
   "pygments_lexer": "ipython2",
   "version": "2.7.12"
  }
 },
 "nbformat": 4,
 "nbformat_minor": 2
}
