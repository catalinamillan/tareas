{
 "cells": [
  {
   "cell_type": "markdown",
   "metadata": {},
   "source": [
    "#### Escoger la raiz con sentido fisico de la ecuacion \n",
    "$$ (S^2-E^2)\\gamma^4+2GE\\gamma^3+(E-2GS^2-G^2)\\gamma^2-2GE\\gamma+G^2(1+S^2)=0$$\n",
    "\n",
    "Donde $ G=1-\\frac{1}{\\Gamma} $ , $\\Gamma=1$, $\\gamma=1/ \\sqrt{1-v^2/c^2}$\n",
    "  "
   ]
  },
  {
   "cell_type": "code",
   "execution_count": 5,
   "metadata": {},
   "outputs": [],
   "source": [
    "import numpy as np"
   ]
  },
  {
   "cell_type": "code",
   "execution_count": 6,
   "metadata": {},
   "outputs": [],
   "source": [
    "def f(x):\n",
    "    a=.5\n",
    "    return (a-1)*x**4+x**2"
   ]
  },
  {
   "cell_type": "code",
   "execution_count": 7,
   "metadata": {},
   "outputs": [],
   "source": [
    "a=[-1.5,-.1,1]   #Lista de rangos para encontrar las raices\n",
    "b=[1,.1,1.5]  \n",
    "\n",
    "Nmax=1000 # Número máximo de iteraciones \n",
    "Tol=1.e-8  # Tolerancia, que no exeda el épsilon de la máquina"
   ]
  },
  {
   "cell_type": "code",
   "execution_count": 8,
   "metadata": {},
   "outputs": [
    {
     "name": "stdout",
     "output_type": "stream",
     "text": [
      "gamma = -1.414213558658957 \n",
      "Intervalo inadecuado\n",
      "gamma = 1.414213560521603 \n"
     ]
    }
   ],
   "source": [
    "for k in range(len(a)):\n",
    "    ai=a[k]\n",
    "    bi=b[k]\n",
    "    \n",
    "    error=1. # Error inicial\n",
    "    i=0 # iteracion\n",
    "    \n",
    "    if(f(a[k])*f(b[k])<0):\n",
    "\n",
    "        while(error>Tol):\n",
    "            p=(bi+ai)*.5\n",
    "            p_prev=p\n",
    "            if(f(a[k])*f(p)<0):\n",
    "                bi=p\n",
    "                ai=ai\n",
    "            elif(f(b[k])*f(p)<0):\n",
    "                ai=p\n",
    "                bi=bi\n",
    "            i+=1\n",
    "            p=(bi+ai)*.5\n",
    "            error=abs(p-p_prev)\n",
    "\n",
    "            #print(\"i=%.1f \\t ai=%.5f \\t bi=%.5f \\t pi=%.5f \\t f(p)=%.5f \\t error=%.5f\" %(i,ai,bi,p,f(p),error)) # P es el cero (o la interseccion)\n",
    "            if(i>=Nmax):\n",
    "                print(\"Numero maximo de iteraciones excedido\")\n",
    "                break\n",
    "        print( \"gamma = %.15f \" %(p))\n",
    "    else:\n",
    "        print(\"Intervalo inadecuado\")\n"
   ]
  },
  {
   "cell_type": "markdown",
   "metadata": {},
   "source": [
    "### La segunda raiz es cero, pero no se encuentra por que el metodo falla en ese punto. \n",
    "\n",
    "### Las raices positiva y negativa tienen el mismo sentido fisico pues al despear la constante v de la ecuacion dada para gamma, estas arrojan el mismo valor"
   ]
  },
  {
   "cell_type": "code",
   "execution_count": null,
   "metadata": {},
   "outputs": [],
   "source": []
  }
 ],
 "metadata": {
  "kernelspec": {
   "display_name": "Python 2",
   "language": "python",
   "name": "python2"
  },
  "language_info": {
   "codemirror_mode": {
    "name": "ipython",
    "version": 2
   },
   "file_extension": ".py",
   "mimetype": "text/x-python",
   "name": "python",
   "nbconvert_exporter": "python",
   "pygments_lexer": "ipython2",
   "version": "2.7.12"
  }
 },
 "nbformat": 4,
 "nbformat_minor": 2
}
